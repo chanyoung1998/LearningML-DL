{
  "nbformat": 4,
  "nbformat_minor": 0,
  "metadata": {
    "colab": {
      "name": "5단원.ipynb",
      "provenance": [],
      "toc_visible": true,
      "authorship_tag": "ABX9TyOim8HZWH9Eqnl/Xxc5sVid",
      "include_colab_link": true
    },
    "kernelspec": {
      "name": "python3",
      "display_name": "Python 3"
    },
    "language_info": {
      "name": "python"
    }
  },
  "cells": [
    {
      "cell_type": "markdown",
      "metadata": {
        "id": "view-in-github",
        "colab_type": "text"
      },
      "source": [
        "<a href=\"https://colab.research.google.com/github/chanyoung1998/LearningML-DL/blob/main/5%EB%8B%A8%EC%9B%90.ipynb\" target=\"_parent\"><img src=\"https://colab.research.google.com/assets/colab-badge.svg\" alt=\"Open In Colab\"/></a>"
      ]
    },
    {
      "cell_type": "markdown",
      "metadata": {
        "id": "47dh4weEr2pE"
      },
      "source": [
        "#교차 검증과 그리드 서치(5-2단원)"
      ]
    },
    {
      "cell_type": "code",
      "metadata": {
        "id": "oiXaFULAr2Dr"
      },
      "source": [
        "import pandas as pd\n",
        "\n",
        "wine = pd.read_csv('https://bit.ly/wine-date')"
      ],
      "execution_count": null,
      "outputs": []
    },
    {
      "cell_type": "code",
      "metadata": {
        "id": "I4BCwngysS-8"
      },
      "source": [
        "data = wine[['alcohol','sugar','pH']].to_numpy()\n",
        "target = wine['class'].to_numpy()"
      ],
      "execution_count": null,
      "outputs": []
    },
    {
      "cell_type": "code",
      "metadata": {
        "id": "pWB_kI_dshJK"
      },
      "source": [
        "from sklearn.model_selection import train_test_split\n",
        "train_input,test_input,train_target,test_target = train_test_split(data,target,test_size = 0.2,random_state = 42)\n",
        "sub_input, val_input, sub_target, val_target = train_test_split(train_input,train_target,test_size = 0.2, random_state = 42)"
      ],
      "execution_count": null,
      "outputs": []
    },
    {
      "cell_type": "code",
      "metadata": {
        "colab": {
          "base_uri": "https://localhost:8080/"
        },
        "id": "e9N-mzcVs1n6",
        "outputId": "f51181f1-4a94-4d59-8d93-9da1ad524a02"
      },
      "source": [
        "print(sub_input.shape,val_input.shape)"
      ],
      "execution_count": null,
      "outputs": [
        {
          "output_type": "stream",
          "text": [
            "(4157, 3) (1040, 3)\n"
          ],
          "name": "stdout"
        }
      ]
    },
    {
      "cell_type": "code",
      "metadata": {
        "colab": {
          "base_uri": "https://localhost:8080/"
        },
        "id": "snLim2-gs4Xa",
        "outputId": "521c3e4f-62b6-48d8-e997-d860a8ac00b6"
      },
      "source": [
        "from sklearn.tree import DecisionTreeClassifier\n",
        "\n",
        "dt = DecisionTreeClassifier(random_state = 42)\n",
        "dt.fit(sub_input,sub_target)\n",
        "print(dt.score(sub_input,sub_target))\n",
        "print(dt.score(val_input,val_target))"
      ],
      "execution_count": null,
      "outputs": [
        {
          "output_type": "stream",
          "text": [
            "0.9971133028626413\n",
            "0.864423076923077\n"
          ],
          "name": "stdout"
        }
      ]
    },
    {
      "cell_type": "markdown",
      "metadata": {
        "id": "w646nYS5td7x"
      },
      "source": [
        "## 교차검증"
      ]
    },
    {
      "cell_type": "code",
      "metadata": {
        "colab": {
          "base_uri": "https://localhost:8080/"
        },
        "id": "htswt5Ybtgkp",
        "outputId": "e0135bd6-9477-460b-870f-7fb9f13fbb70"
      },
      "source": [
        "from sklearn.model_selection import cross_validate\n",
        "scores = cross_validate(dt,train_input,train_target)\n",
        "print(scores)"
      ],
      "execution_count": null,
      "outputs": [
        {
          "output_type": "stream",
          "text": [
            "{'fit_time': array([0.01082039, 0.00693583, 0.00763869, 0.00725937, 0.00689125]), 'score_time': array([0.00070095, 0.00061154, 0.00065541, 0.00066233, 0.0005734 ]), 'test_score': array([0.86923077, 0.84615385, 0.87680462, 0.84889317, 0.83541867])}\n"
          ],
          "name": "stdout"
        }
      ]
    },
    {
      "cell_type": "code",
      "metadata": {
        "colab": {
          "base_uri": "https://localhost:8080/"
        },
        "id": "0TFxHmUruH4K",
        "outputId": "07866787-c591-4cf9-be90-9900e57a9c9d"
      },
      "source": [
        "import numpy as np\n",
        "print(np.mean(scores['test_score']))"
      ],
      "execution_count": null,
      "outputs": [
        {
          "output_type": "stream",
          "text": [
            "0.855300214703487\n"
          ],
          "name": "stdout"
        }
      ]
    },
    {
      "cell_type": "markdown",
      "metadata": {
        "id": "SRjrwOwVu6si"
      },
      "source": [
        "##그리드 서치\n"
      ]
    },
    {
      "cell_type": "code",
      "metadata": {
        "colab": {
          "base_uri": "https://localhost:8080/"
        },
        "id": "ch5QKGZ6u4zV",
        "outputId": "7da22163-5c8e-4d6b-edc7-c022bfef098c"
      },
      "source": [
        "from sklearn.model_selection import GridSearchCV\n",
        "\n",
        "params = {'min_impurity_decrease': [0.0001, 0.0002, 0.0003, 0.0004, 0.0005]}\n",
        "gs = GridSearchCV(DecisionTreeClassifier(random_state= 42),params, n_jobs = -1)\n",
        "gs.fit(train_input,train_target)\n",
        "dt = gs.best_estimator_\n",
        "print(dt.score(train_input,train_target))\n",
        "print(gs.best_params_)\n",
        "print(gs.cv_results_['mean_test_score'])"
      ],
      "execution_count": null,
      "outputs": [
        {
          "output_type": "stream",
          "text": [
            "0.9615162593804117\n",
            "{'min_impurity_decrease': 0.0001}\n",
            "[0.86819297 0.86453617 0.86492226 0.86780891 0.86761605]\n"
          ],
          "name": "stdout"
        }
      ]
    },
    {
      "cell_type": "markdown",
      "metadata": {
        "id": "v-Galu4bw9SM"
      },
      "source": [
        "### 조금 더 복잡한 매개변수 조합\n"
      ]
    },
    {
      "cell_type": "code",
      "metadata": {
        "id": "KP-VxsiLw88d"
      },
      "source": [
        "params = {'min_impurity_decrease': np.arange(0.0001,0.001,0.0001),\n",
        "          'max_depth': range(5,20,1),\n",
        "          'min_samples_split': range(2,100,10)}"
      ],
      "execution_count": null,
      "outputs": []
    },
    {
      "cell_type": "code",
      "metadata": {
        "colab": {
          "base_uri": "https://localhost:8080/"
        },
        "id": "BqIZ_2z6xblF",
        "outputId": "ba5fa0b0-3ad4-4751-b602-22ded7884cf1"
      },
      "source": [
        "gs = GridSearchCV(DecisionTreeClassifier(random_state= 42),params,n_jobs= -1)\n",
        "gs.fit(train_input,train_target)\n",
        "print(gs.best_params_)"
      ],
      "execution_count": null,
      "outputs": [
        {
          "output_type": "stream",
          "text": [
            "{'max_depth': 14, 'min_impurity_decrease': 0.0004, 'min_samples_split': 12}\n"
          ],
          "name": "stdout"
        }
      ]
    },
    {
      "cell_type": "code",
      "metadata": {
        "colab": {
          "base_uri": "https://localhost:8080/"
        },
        "id": "FtyK_1jXxu4J",
        "outputId": "bf610e78-101c-438d-8dcb-0f60f7ff1c19"
      },
      "source": [
        "print(np.max(gs.cv_results_['mean_test_score']))"
      ],
      "execution_count": null,
      "outputs": [
        {
          "output_type": "stream",
          "text": [
            "0.8683865773302731\n"
          ],
          "name": "stdout"
        }
      ]
    },
    {
      "cell_type": "code",
      "metadata": {
        "colab": {
          "base_uri": "https://localhost:8080/"
        },
        "id": "tn12Sh3GyGvc",
        "outputId": "28a03e0c-aefe-4dd8-b701-62f73bdc6f33"
      },
      "source": [
        "from scipy.stats import uniform,randint\n",
        "\n",
        "rgen = randint(0,10)\n",
        "rgen.rvs(10)"
      ],
      "execution_count": null,
      "outputs": [
        {
          "output_type": "execute_result",
          "data": {
            "text/plain": [
              "array([3, 2, 1, 3, 2, 9, 3, 3, 8, 9])"
            ]
          },
          "metadata": {
            "tags": []
          },
          "execution_count": 26
        }
      ]
    },
    {
      "cell_type": "markdown",
      "metadata": {
        "id": "Erc2lx5Gs8VF"
      },
      "source": [
        "#트리의 앙상블"
      ]
    },
    {
      "cell_type": "code",
      "metadata": {
        "id": "GlkXgmFAs-nk"
      },
      "source": [
        "import numpy as np\n",
        "import pandas as pd\n",
        "from sklearn.model_selection import train_test_split\n",
        "\n",
        "wine = pd.read_csv('https://bit.ly/wine-date')\n",
        "data = wine[['alcohol','sugar','pH']].to_numpy()\n",
        "target = wine['class'].to_numpy()\n",
        "train_input,test_input,train_target,test_target = train_test_split(data,target,test_size = 0.2,random_state = 42)"
      ],
      "execution_count": 3,
      "outputs": []
    },
    {
      "cell_type": "code",
      "metadata": {
        "colab": {
          "base_uri": "https://localhost:8080/"
        },
        "id": "I2rZcv3TtmHa",
        "outputId": "75125fd0-9df4-46c9-c495-59aaeed41435"
      },
      "source": [
        "from sklearn.model_selection import cross_validate\n",
        "from sklearn.ensemble import RandomForestClassifier\n",
        "\n",
        "rf = RandomForestClassifier(n_jobs = -1,random_state = 42)\n",
        "scores = cross_validate(rf,train_input,train_target,return_train_score = True,n_jobs = -1)\n",
        "print(np.mean(scores['train_score']),np.mean(scores['test_score']))\n",
        "print(scores)"
      ],
      "execution_count": 5,
      "outputs": [
        {
          "output_type": "stream",
          "text": [
            "0.9973541965122431 0.8905151032797809\n",
            "{'fit_time': array([0.57958841, 0.58012223, 0.67830229, 0.6773169 , 0.34120202]), 'score_time': array([0.10214305, 0.10329652, 0.10238481, 0.10353971, 0.10213757]), 'test_score': array([0.88461538, 0.88942308, 0.90279115, 0.88931665, 0.88642926]), 'train_score': array([0.9971133 , 0.99663219, 0.9978355 , 0.9973545 , 0.9978355 ])}\n"
          ],
          "name": "stdout"
        }
      ]
    },
    {
      "cell_type": "code",
      "metadata": {
        "colab": {
          "base_uri": "https://localhost:8080/"
        },
        "id": "WfJpEIp1ut-J",
        "outputId": "f47adb2d-31c3-4691-b341-706e5d0ec5d4"
      },
      "source": [
        "rf.fit(train_input,train_target)\n",
        "print(rf.feature_importances_)\n",
        "print(rf.score(train_input,train_target))\n",
        "print(rf.score(test_input,test_target))"
      ],
      "execution_count": 7,
      "outputs": [
        {
          "output_type": "stream",
          "text": [
            "[0.23167441 0.50039841 0.26792718]\n",
            "0.996921300750433\n",
            "0.8892307692307693\n"
          ],
          "name": "stdout"
        }
      ]
    },
    {
      "cell_type": "code",
      "metadata": {
        "colab": {
          "base_uri": "https://localhost:8080/"
        },
        "id": "TorlCOSAv3bB",
        "outputId": "0646b834-0333-4c64-f3f9-272a5d971ae6"
      },
      "source": [
        "rf = RandomForestClassifier(oob_score= True, n_jobs= -1,random_state= 42)\n",
        "rf.fit(train_input,train_target)\n",
        "print(rf.oob_score_)"
      ],
      "execution_count": 9,
      "outputs": [
        {
          "output_type": "stream",
          "text": [
            "0.8934000384837406\n"
          ],
          "name": "stdout"
        }
      ]
    },
    {
      "cell_type": "markdown",
      "metadata": {
        "id": "qTf-lUSUwx6T"
      },
      "source": [
        "#그레디언트 부스팅\n"
      ]
    },
    {
      "cell_type": "code",
      "metadata": {
        "colab": {
          "base_uri": "https://localhost:8080/"
        },
        "id": "4Y5VmOGtw4bS",
        "outputId": "3a5fe0be-a93c-421c-b801-18a094161b32"
      },
      "source": [
        "from sklearn.ensemble import GradientBoostingClassifier\n",
        "gb = GradientBoostingClassifier()\n",
        "scores = cross_validate(gb,train_input,train_target,return_train_score= True, n_jobs= -1)\n",
        "print(np.mean(scores['train_score']),np.mean(scores['test_score']))"
      ],
      "execution_count": 10,
      "outputs": [
        {
          "output_type": "stream",
          "text": [
            "0.8881086892152563 0.8720430147331015\n"
          ],
          "name": "stdout"
        }
      ]
    },
    {
      "cell_type": "code",
      "metadata": {
        "colab": {
          "base_uri": "https://localhost:8080/"
        },
        "id": "R9x7NLFkxd99",
        "outputId": "1ecd2a60-1902-40c6-dd21-3069243f7194"
      },
      "source": [
        "gb = GradientBoostingClassifier(n_estimators = 500,learning_rate = 0.2,random_state = 42)\n",
        "scores = cross_validate(gb,train_input,train_target,return_train_score= True, n_jobs= -1)\n",
        "print(np.mean(scores['train_score']),np.mean(scores['test_score']))"
      ],
      "execution_count": 15,
      "outputs": [
        {
          "output_type": "stream",
          "text": [
            "0.9464595437171814 0.8780082549788999\n"
          ],
          "name": "stdout"
        }
      ]
    },
    {
      "cell_type": "code",
      "metadata": {
        "colab": {
          "base_uri": "https://localhost:8080/"
        },
        "id": "b8a2VjToxsh0",
        "outputId": "37b99a11-2d3a-4310-c3d5-9c2b5368590b"
      },
      "source": [
        "gb.fit(train_input,train_target)\n",
        "print(gb.feature_importances_)"
      ],
      "execution_count": 13,
      "outputs": [
        {
          "output_type": "stream",
          "text": [
            "[0.15872278 0.68010884 0.16116839]\n"
          ],
          "name": "stdout"
        }
      ]
    },
    {
      "cell_type": "markdown",
      "metadata": {
        "id": "bkLx1w9v0Ad0"
      },
      "source": [
        "##히스토그램 기반 그레디언트 부스팅\n"
      ]
    },
    {
      "cell_type": "code",
      "metadata": {
        "colab": {
          "base_uri": "https://localhost:8080/"
        },
        "id": "hlZTZVIo0E1a",
        "outputId": "6b10fcf4-962e-4e0b-95f1-6fe959edbe7f"
      },
      "source": [
        "from sklearn.experimental import enable_hist_gradient_boosting\n",
        "from sklearn.ensemble import HistGradientBoostingClassifier\n",
        "hgb = HistGradientBoostingClassifier()\n",
        "scores = cross_validate(hgb,train_input,train_target,return_train_score= True, n_jobs= -1)\n",
        "print(np.mean(scores['train_score']),np.mean(scores['test_score']))\n",
        "hgb.fit(train_input,train_target)\n",
        "print(hgb.score(test_input,test_target))"
      ],
      "execution_count": 19,
      "outputs": [
        {
          "output_type": "stream",
          "text": [
            "0.9321723946453317 0.8801241948619236\n",
            "0.8723076923076923\n"
          ],
          "name": "stdout"
        }
      ]
    }
  ]
}