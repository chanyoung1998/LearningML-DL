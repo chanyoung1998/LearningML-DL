{
  "nbformat": 4,
  "nbformat_minor": 0,
  "metadata": {
    "colab": {
      "name": "k-최근접 이웃 회귀.ipynb",
      "provenance": [],
      "collapsed_sections": [],
      "toc_visible": true,
      "authorship_tag": "ABX9TyMKSRhvyu0VzzpM/nFdzjxA",
      "include_colab_link": true
    },
    "kernelspec": {
      "name": "python3",
      "display_name": "Python 3"
    }
  },
  "cells": [
    {
      "cell_type": "markdown",
      "metadata": {
        "id": "view-in-github",
        "colab_type": "text"
      },
      "source": [
        "<a href=\"https://colab.research.google.com/github/chanyoung1998/LearningML-DL/blob/main/k_%EC%B5%9C%EA%B7%BC%EC%A0%91_%EC%9D%B4%EC%9B%83_%ED%9A%8C%EA%B7%80.ipynb\" target=\"_parent\"><img src=\"https://colab.research.google.com/assets/colab-badge.svg\" alt=\"Open In Colab\"/></a>"
      ]
    },
    {
      "cell_type": "markdown",
      "metadata": {
        "id": "waVJCFLC1bxP"
      },
      "source": [
        "##k-최근접 이웃 회귀 알고리즘\r\n",
        "\r\n"
      ]
    },
    {
      "cell_type": "markdown",
      "metadata": {
        "id": "UHXX1rq98f7c"
      },
      "source": [
        "###데이터 준비\r\n",
        "\r\n"
      ]
    },
    {
      "cell_type": "code",
      "metadata": {
        "colab": {
          "base_uri": "https://localhost:8080/",
          "height": 279
        },
        "id": "L543ttu61HhL",
        "outputId": "4c494118-239d-4ed4-ea93-a6c950a4d174"
      },
      "source": [
        "import numpy as np\r\n",
        "import matplotlib.pyplot as plt\r\n",
        "from sklearn.model_selection import train_test_split\r\n",
        "\r\n",
        "perch_length = np.array([8.4, 13.7, 15.0, 16.2, 17.4, 18.0, 18.7, 19.0, 19.6, 20.0, 21.0,\r\n",
        "       21.0, 21.0, 21.3, 22.0, 22.0, 22.0, 22.0, 22.0, 22.5, 22.5, 22.7,\r\n",
        "       23.0, 23.5, 24.0, 24.0, 24.6, 25.0, 25.6, 26.5, 27.3, 27.5, 27.5,\r\n",
        "       27.5, 28.0, 28.7, 30.0, 32.8, 34.5, 35.0, 36.5, 36.0, 37.0, 37.0,\r\n",
        "       39.0, 39.0, 39.0, 40.0, 40.0, 40.0, 40.0, 42.0, 43.0, 43.0, 43.5,\r\n",
        "       44.0])\r\n",
        "perch_weight = np.array([5.9, 32.0, 40.0, 51.5, 70.0, 100.0, 78.0, 80.0, 85.0, 85.0, 110.0,\r\n",
        "       115.0, 125.0, 130.0, 120.0, 120.0, 130.0, 135.0, 110.0, 130.0,\r\n",
        "       150.0, 145.0, 150.0, 170.0, 225.0, 145.0, 188.0, 180.0, 197.0,\r\n",
        "       218.0, 300.0, 260.0, 265.0, 250.0, 250.0, 300.0, 320.0, 514.0,\r\n",
        "       556.0, 840.0, 685.0, 700.0, 700.0, 690.0, 900.0, 650.0, 820.0,\r\n",
        "       850.0, 900.0, 1015.0, 820.0, 1100.0, 1000.0, 1100.0, 1000.0,\r\n",
        "       1000.0])\r\n",
        "plt.scatter(perch_length,perch_weight)\r\n",
        "plt.xlabel('length')\r\n",
        "plt.ylabel('weight')\r\n",
        "plt.show\r\n",
        "\r\n",
        "train_input, test_input , train_target, test_target = train_test_split(perch_length,perch_weight,random_state =  42)\r\n",
        "train_input = train_input.reshape(-1,1)\r\n",
        "test_input = test_input.reshape(-1,1)\r\n"
      ],
      "execution_count": null,
      "outputs": [
        {
          "output_type": "display_data",
          "data": {
            "image/png": "[encoded data removed]",
            "text/plain": [
              "<Figure size 432x288 with 1 Axes>"
            ]
          },
          "metadata": {
            "tags": [],
            "needs_background": "light"
          }
        }
      ]
    },
    {
      "cell_type": "markdown",
      "metadata": {
        "id": "0jfcSj498m6c"
      },
      "source": [
        "###결정 계수(R^2)\r\n",
        "\r\n",
        "\r\n",
        "\r\n"
      ]
    },
    {
      "cell_type": "code",
      "metadata": {
        "colab": {
          "base_uri": "https://localhost:8080/"
        },
        "id": "XxUoOaL18md6",
        "outputId": "a6d831b2-e31f-42c0-e909-d60f5c833b0a"
      },
      "source": [
        "from sklearn.neighbors import KNeighborsRegressor\r\n",
        "from sklearn.metrics import mean_absolute_error\r\n",
        "\r\n",
        "knr = KNeighborsRegressor()\r\n",
        "knr.fit(train_input,train_target)\r\n",
        "print('테스트 세트에 대한 정확도 : {}'.format(knr.score(test_input,test_target)))\r\n",
        "\r\n",
        "#테스트 세트에 대한 예측을 만든다\r\n",
        "test_production = knr.predict(test_input)\r\n",
        "#테스트 세트에 대한 평균 절대값 오차를 계산\r\n",
        "mae = mean_absolute_error(test_target,test_production)\r\n",
        "print('{}g 정도 예측이 평균과 다르다'.format(mae))\r\n",
        "\r\n",
        "#이번에는 평소와는 다르게 train 세트를 가지고 score()메서드를 사용해보자\r\n",
        "print('훈련 세트에 대한 정확도 : {}'.format(knr.score(train_input,train_target)))\r\n",
        "#결과는 오히려 train 세트에서 더 오차가 커진다. 과소 적합이 발생한다\r\n",
        "#모델이 너무 단순하기 때문이다. 복잡하게 만들어 보자 (123p)\r\n",
        "\r\n",
        "knr.n_neighbors = 3\r\n",
        "knr.fit(train_input,train_target)\r\n",
        "print('복잡하게 학습한 모델에서 테스트세트에 대한 정확도 : {}'.format(knr.score(test_input,test_target)))\r\n",
        "print('복잡하게 학습한 모델에서 훈련세트에 대한 정확도 : {}'.format(knr.score(train_input,train_target)))\r\n"
      ],
      "execution_count": null,
      "outputs": [
        {
          "output_type": "stream",
          "text": [
            "테스트 세트에 대한 정확도 : 0.9928094061010639\n",
            "19.157142857142862g 정도 예측이 평균과 다르다\n",
            "훈련 세트에 대한 정확도 : 0.9698823289099255\n",
            "복잡하게 학습한 모델에서 테스트세트에 대한 정확도 : 0.974645996398761\n",
            "복잡하게 학습한 모델에서 훈련세트에 대한 정확도 : 0.9804899950518966\n"
          ],
          "name": "stdout"
        }
      ]
    },
    {
      "cell_type": "markdown",
      "metadata": {
        "id": "epuujOovQ74u"
      },
      "source": [
        "#### 확인 문제"
      ]
    },
    {
      "cell_type": "code",
      "metadata": {
        "colab": {
          "base_uri": "https://localhost:8080/",
          "height": 761
        },
        "id": "bHdd3YGFOpjv",
        "outputId": "8aabcab8-92f4-46a1-f069-453f0cf243f3"
      },
      "source": [
        "#확인 문제 과대 적합 및 과소 적합 확인해 보기\r\n",
        "\r\n",
        "from sklearn.neighbors import KNeighborsRegressor\r\n",
        "from sklearn.metrics import mean_absolute_error\r\n",
        "from sklearn.model_selection import train_test_split\r\n",
        "import numpy as np\r\n",
        "import matplotlib.pyplot as plt\r\n",
        "\r\n",
        "perch_length = np.array([8.4, 13.7, 15.0, 16.2, 17.4, 18.0, 18.7, 19.0, 19.6, 20.0, 21.0,\r\n",
        "       21.0, 21.0, 21.3, 22.0, 22.0, 22.0, 22.0, 22.0, 22.5, 22.5, 22.7,\r\n",
        "       23.0, 23.5, 24.0, 24.0, 24.6, 25.0, 25.6, 26.5, 27.3, 27.5, 27.5,\r\n",
        "       27.5, 28.0, 28.7, 30.0, 32.8, 34.5, 35.0, 36.5, 36.0, 37.0, 37.0,\r\n",
        "       39.0, 39.0, 39.0, 40.0, 40.0, 40.0, 40.0, 42.0, 43.0, 43.0, 43.5,\r\n",
        "       44.0])\r\n",
        "perch_weight = np.array([5.9, 32.0, 40.0, 51.5, 70.0, 100.0, 78.0, 80.0, 85.0, 85.0, 110.0,\r\n",
        "       115.0, 125.0, 130.0, 120.0, 120.0, 130.0, 135.0, 110.0, 130.0,\r\n",
        "       150.0, 145.0, 150.0, 170.0, 225.0, 145.0, 188.0, 180.0, 197.0,\r\n",
        "       218.0, 300.0, 260.0, 265.0, 250.0, 250.0, 300.0, 320.0, 514.0,\r\n",
        "       556.0, 840.0, 685.0, 700.0, 700.0, 690.0, 900.0, 650.0, 820.0,\r\n",
        "       850.0, 900.0, 1015.0, 820.0, 1100.0, 1000.0, 1100.0, 1000.0,\r\n",
        "       1000.0])\r\n",
        "\r\n",
        "train_input, test_input , train_target, test_target = train_test_split(perch_length,perch_weight,random_state =  42)\r\n",
        "train_input = train_input.reshape(-1,1)\r\n",
        "test_input = test_input.reshape(-1,1)\r\n",
        "\r\n",
        "\r\n",
        "knr = KNeighborsRegressor()\r\n",
        "x = np.arange(5,45).reshape(-1,1)\r\n",
        "\r\n",
        "#n이 커짐에 따라 단순해 진다.(일반적인 패턴을 따르게 된다)\r\n",
        "for n in [1,5,10]:\r\n",
        "  knr.n_neighbors = n\r\n",
        "  knr.fit(train_input,train_target)\r\n",
        "  prediction = knr.predict(x)\r\n",
        "\r\n",
        "  plt.scatter(train_input,train_target)\r\n",
        "  plt.plot(x, prediction)\r\n",
        "  plt.show()\r\n"
      ],
      "execution_count": 6,
      "outputs": [
        {
          "output_type": "display_data",
          "data": {
            "image/png": "[encoded data removed]",
            "text/plain": [
              "<Figure size 432x288 with 1 Axes>"
            ]
          },
          "metadata": {
            "tags": [],
            "needs_background": "light"
          }
        },
        {
          "output_type": "display_data",
          "data": {
            "image/png": "[encoded data removed]",
            "text/plain": [
              "<Figure size 432x288 with 1 Axes>"
            ]
          },
          "metadata": {
            "tags": [],
            "needs_background": "light"
          }
        },
        {
          "output_type": "display_data",
          "data": {
            "image/png": "[encoded data removed]",
            "text/plain": [
              "<Figure size 432x288 with 1 Axes>"
            ]
          },
          "metadata": {
            "tags": [],
            "needs_background": "light"
          }
        }
      ]
    },
    {
      "cell_type": "markdown",
      "metadata": {
        "id": "V6XuPKj4RTgv"
      },
      "source": [
        "# 선형 회귀\r\n"
      ]
    },
    {
      "cell_type": "markdown",
      "metadata": {
        "id": "rfAePwXARbXe"
      },
      "source": [
        "##k-최근접 이웃의 한계\r\n"
      ]
    },
    {
      "cell_type": "code",
      "metadata": {
        "colab": {
          "base_uri": "https://localhost:8080/",
          "height": 283
        },
        "id": "6KTzUjRyRfWE",
        "outputId": "3e906496-faf9-4428-f4c3-bde7fb52586a"
      },
      "source": [
        "from sklearn.neighbors import KNeighborsRegressor\r\n",
        "from sklearn.metrics import mean_absolute_error\r\n",
        "from sklearn.model_selection import train_test_split\r\n",
        "import matplotlib.pyplot as plt\r\n",
        "import numpy as np\r\n",
        "\r\n",
        "perch_length = np.array([8.4, 13.7, 15.0, 16.2, 17.4, 18.0, 18.7, 19.0, 19.6, 20.0, 21.0,\r\n",
        "       21.0, 21.0, 21.3, 22.0, 22.0, 22.0, 22.0, 22.0, 22.5, 22.5, 22.7,\r\n",
        "       23.0, 23.5, 24.0, 24.0, 24.6, 25.0, 25.6, 26.5, 27.3, 27.5, 27.5,\r\n",
        "       27.5, 28.0, 28.7, 30.0, 32.8, 34.5, 35.0, 36.5, 36.0, 37.0, 37.0,\r\n",
        "       39.0, 39.0, 39.0, 40.0, 40.0, 40.0, 40.0, 42.0, 43.0, 43.0, 43.5,\r\n",
        "       44.0])\r\n",
        "perch_weight = np.array([5.9, 32.0, 40.0, 51.5, 70.0, 100.0, 78.0, 80.0, 85.0, 85.0, 110.0,\r\n",
        "       115.0, 125.0, 130.0, 120.0, 120.0, 130.0, 135.0, 110.0, 130.0,\r\n",
        "       150.0, 145.0, 150.0, 170.0, 225.0, 145.0, 188.0, 180.0, 197.0,\r\n",
        "       218.0, 300.0, 260.0, 265.0, 250.0, 250.0, 300.0, 320.0, 514.0,\r\n",
        "       556.0, 840.0, 685.0, 700.0, 700.0, 690.0, 900.0, 650.0, 820.0,\r\n",
        "       850.0, 900.0, 1015.0, 820.0, 1100.0, 1000.0, 1100.0, 1000.0,\r\n",
        "       1000.0])\r\n",
        "\r\n",
        "train_input, test_input, train_target, test_target = train_test_split(perch_length,perch_weight,random_state = 42)\r\n",
        "train_input = train_input.reshape(-1, 1)\r\n",
        "test_input = test_input.reshape(-1, 1)\r\n",
        "\r\n",
        "knr = KNeighborsRegressor(n_neighbors= 3)\r\n",
        "knr.fit(train_input,train_target)\r\n",
        "print(knr.predict([[50]]))\r\n",
        "\r\n",
        "distances, indexes = knr.kneighbors([[50]])\r\n",
        "\r\n",
        "plt.scatter(train_input,train_target)\r\n",
        "plt.scatter(train_input[indexes],train_target[indexes],marker = 'D')\r\n",
        "\r\n",
        "plt.scatter(50,1033,marker = '^')\r\n",
        "plt.show()\r\n",
        "\r\n",
        "#한계: 훈련세트의 범위를 벗어난 샘플이라면 엉뚱한 값을 예측한다."
      ],
      "execution_count": 17,
      "outputs": [
        {
          "output_type": "stream",
          "text": [
            "[1033.33333333]\n"
          ],
          "name": "stdout"
        },
        {
          "output_type": "display_data",
          "data": {
            "image/png": "[encoded data removed]",
            "text/plain": [
              "<Figure size 432x288 with 1 Axes>"
            ]
          },
          "metadata": {
            "tags": [],
            "needs_background": "light"
          }
        }
      ]
    },
    {
      "cell_type": "markdown",
      "metadata": {
        "id": "skAq_Rf-Vj0t"
      },
      "source": [
        "##선형 회귀 모델"
      ]
    },
    {
      "cell_type": "code",
      "metadata": {
        "colab": {
          "base_uri": "https://localhost:8080/",
          "height": 337
        },
        "id": "NUuJrmWJVma8",
        "outputId": "1b245cd2-a958-4e3a-f27f-c66b0261be23"
      },
      "source": [
        "from sklearn.linear_model import LinearRegression\r\n",
        "\r\n",
        "lr = LinearRegression()\r\n",
        "lr.fit(train_input,train_target)\r\n",
        "print(lr.predict([[50]]))\r\n",
        "print('기울기:{} y절편:{}'.format(lr.coef_,lr.intercept_))\r\n",
        "\r\n",
        "plt.scatter(train_input,train_target)\r\n",
        "plt.plot([15,50],[15*lr.coef_+lr.intercept_, 50*lr.coef_+lr.intercept_ ])\r\n",
        "plt.scatter(50,1241.8,marker = '^')\r\n",
        "plt.show()\r\n",
        "print('훈련 세트:',lr.score(train_input,train_target))\r\n",
        "print('테스트 세트:',lr.score(test_input,test_target))"
      ],
      "execution_count": 24,
      "outputs": [
        {
          "output_type": "stream",
          "text": [
            "[1241.83860323]\n",
            "기울기:[39.01714496] y절편:-709.0186449535477\n"
          ],
          "name": "stdout"
        },
        {
          "output_type": "display_data",
          "data": {
            "image/png": "[encoded data removed]",
            "text/plain": [
              "<Figure size 432x288 with 1 Axes>"
            ]
          },
          "metadata": {
            "tags": [],
            "needs_background": "light"
          }
        },
        {
          "output_type": "stream",
          "text": [
            "훈련 세트: 0.9398463339976039\n",
            "테스트 세트: 0.8247503123313558\n"
          ],
          "name": "stdout"
        }
      ]
    },
    {
      "cell_type": "markdown",
      "metadata": {
        "id": "u0c7ypfTYQs7"
      },
      "source": [
        "###다항 회귀\r\n"
      ]
    },
    {
      "cell_type": "code",
      "metadata": {
        "colab": {
          "base_uri": "https://localhost:8080/",
          "height": 337
        },
        "id": "hiqfWVJGYchD",
        "outputId": "7482f071-34f0-4336-e23b-4f03a9463279"
      },
      "source": [
        "train_poly = np.column_stack((train_input ** 2,train_input))\r\n",
        "test_poly = np.column_stack((test_input ** 2 , test_input))\r\n",
        "lr.fit(train_poly,train_target)\r\n",
        "print(lr.predict([[50**2,50]]))\r\n",
        "print(lr.coef_,lr.intercept_)\r\n",
        "\r\n",
        "point = np.arange(15,50)\r\n",
        "\r\n",
        "plt.scatter(train_input,train_target)\r\n",
        "plt.plot(point,1.01*point**2 -21.6*point+116.05)\r\n",
        "plt.scatter([50],[1574],marker='D')\r\n",
        "plt.show()\r\n",
        "\r\n",
        "print(lr.score(train_poly,train_target))\r\n",
        "print(lr.score(test_poly,test_target))"
      ],
      "execution_count": 33,
      "outputs": [
        {
          "output_type": "stream",
          "text": [
            "[1573.98423528]\n",
            "[  1.01433211 -21.55792498] 116.05021078278276\n"
          ],
          "name": "stdout"
        },
        {
          "output_type": "display_data",
          "data": {
            "image/png": "[encoded data removed]",
            "text/plain": [
              "<Figure size 432x288 with 1 Axes>"
            ]
          },
          "metadata": {
            "tags": [],
            "needs_background": "light"
          }
        },
        {
          "output_type": "stream",
          "text": [
            "0.9706807451768623\n",
            "0.9775935108325122\n"
          ],
          "name": "stdout"
        }
      ]
    }
  ]
}