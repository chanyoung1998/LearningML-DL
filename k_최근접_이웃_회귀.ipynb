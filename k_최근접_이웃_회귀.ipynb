{
  "nbformat": 4,
  "nbformat_minor": 0,
  "metadata": {
    "colab": {
      "name": "k-최근접 이웃 회귀.ipynb",
      "provenance": [],
      "collapsed_sections": [],
      "toc_visible": true,
      "authorship_tag": "ABX9TyOKQKcYSVLfA/Mpkmkcjytx",
      "include_colab_link": true
    },
    "kernelspec": {
      "name": "python3",
      "display_name": "Python 3"
    }
  },
  "cells": [
    {
      "cell_type": "markdown",
      "metadata": {
        "id": "view-in-github",
        "colab_type": "text"
      },
      "source": [
        "<a href=\"https://colab.research.google.com/github/chanyoung1998/LearningML-DL/blob/main/k_%EC%B5%9C%EA%B7%BC%EC%A0%91_%EC%9D%B4%EC%9B%83_%ED%9A%8C%EA%B7%80.ipynb\" target=\"_parent\"><img src=\"https://colab.research.google.com/assets/colab-badge.svg\" alt=\"Open In Colab\"/></a>"
      ]
    },
    {
      "cell_type": "markdown",
      "metadata": {
        "id": "waVJCFLC1bxP"
      },
      "source": [
        "##k-최근접 이웃 회귀 알고리즘\r\n",
        "\r\n"
      ]
    },
    {
      "cell_type": "markdown",
      "metadata": {
        "id": "UHXX1rq98f7c"
      },
      "source": [
        "###데이터 준비\r\n",
        "\r\n"
      ]
    },
    {
      "cell_type": "code",
      "metadata": {
        "id": "L543ttu61HhL"
      },
      "source": [
        "import numpy as np\r\n",
        "import matplotlib.pyplot as plt\r\n",
        "from sklearn.model_selection import train_test_split\r\n",
        "\r\n",
        "perch_length = np.array([8.4, 13.7, 15.0, 16.2, 17.4, 18.0, 18.7, 19.0, 19.6, 20.0, 21.0,\r\n",
        "       21.0, 21.0, 21.3, 22.0, 22.0, 22.0, 22.0, 22.0, 22.5, 22.5, 22.7,\r\n",
        "       23.0, 23.5, 24.0, 24.0, 24.6, 25.0, 25.6, 26.5, 27.3, 27.5, 27.5,\r\n",
        "       27.5, 28.0, 28.7, 30.0, 32.8, 34.5, 35.0, 36.5, 36.0, 37.0, 37.0,\r\n",
        "       39.0, 39.0, 39.0, 40.0, 40.0, 40.0, 40.0, 42.0, 43.0, 43.0, 43.5,\r\n",
        "       44.0])\r\n",
        "perch_weight = np.array([5.9, 32.0, 40.0, 51.5, 70.0, 100.0, 78.0, 80.0, 85.0, 85.0, 110.0,\r\n",
        "       115.0, 125.0, 130.0, 120.0, 120.0, 130.0, 135.0, 110.0, 130.0,\r\n",
        "       150.0, 145.0, 150.0, 170.0, 225.0, 145.0, 188.0, 180.0, 197.0,\r\n",
        "       218.0, 300.0, 260.0, 265.0, 250.0, 250.0, 300.0, 320.0, 514.0,\r\n",
        "       556.0, 840.0, 685.0, 700.0, 700.0, 690.0, 900.0, 650.0, 820.0,\r\n",
        "       850.0, 900.0, 1015.0, 820.0, 1100.0, 1000.0, 1100.0, 1000.0,\r\n",
        "       1000.0])\r\n",
        "plt.scatter(perch_length,perch_weight)\r\n",
        "plt.xlabel('length')\r\n",
        "plt.ylabel('weight')\r\n",
        "plt.show\r\n",
        "\r\n",
        "train_input, test_input , train_target, test_target = train_test_split(perch_length,perch_weight,random_state =  42)\r\n",
        "train_input = train_input.reshape(-1,1)\r\n",
        "test_input = test_input.reshape(-1,1)\r\n"
      ],
      "execution_count": null,
      "outputs": []
    },
    {
      "cell_type": "markdown",
      "metadata": {
        "id": "0jfcSj498m6c"
      },
      "source": [
        "###결정 계수(R^2)\r\n",
        "\r\n",
        "\r\n",
        "\r\n"
      ]
    },
    {
      "cell_type": "code",
      "metadata": {
        "colab": {
          "base_uri": "https://localhost:8080/"
        },
        "id": "XxUoOaL18md6",
        "outputId": "a6d831b2-e31f-42c0-e909-d60f5c833b0a"
      },
      "source": [
        "from sklearn.neighbors import KNeighborsRegressor\r\n",
        "from sklearn.metrics import mean_absolute_error\r\n",
        "\r\n",
        "knr = KNeighborsRegressor()\r\n",
        "knr.fit(train_input,train_target)\r\n",
        "print('테스트 세트에 대한 정확도 : {}'.format(knr.score(test_input,test_target)))\r\n",
        "\r\n",
        "#테스트 세트에 대한 예측을 만든다\r\n",
        "test_production = knr.predict(test_input)\r\n",
        "#테스트 세트에 대한 평균 절대값 오차를 계산\r\n",
        "mae = mean_absolute_error(test_target,test_production)\r\n",
        "print('{}g 정도 예측이 평균과 다르다'.format(mae))\r\n",
        "\r\n",
        "#이번에는 평소와는 다르게 train 세트를 가지고 score()메서드를 사용해보자\r\n",
        "print('훈련 세트에 대한 정확도 : {}'.format(knr.score(train_input,train_target)))\r\n",
        "#결과는 오히려 train 세트에서 더 오차가 커진다. 과소 적합이 발생한다\r\n",
        "#모델이 너무 단순하기 때문이다. 복잡하게 만들어 보자 (123p)\r\n",
        "\r\n",
        "knr.n_neighbors = 3\r\n",
        "knr.fit(train_input,train_target)\r\n",
        "print('복잡하게 학습한 모델에서 테스트세트에 대한 정확도 : {}'.format(knr.score(test_input,test_target)))\r\n",
        "print('복잡하게 학습한 모델에서 훈련세트에 대한 정확도 : {}'.format(knr.score(train_input,train_target)))\r\n"
      ],
      "execution_count": 18,
      "outputs": [
        {
          "output_type": "stream",
          "text": [
            "테스트 세트에 대한 정확도 : 0.9928094061010639\n",
            "19.157142857142862g 정도 예측이 평균과 다르다\n",
            "훈련 세트에 대한 정확도 : 0.9698823289099255\n",
            "복잡하게 학습한 모델에서 테스트세트에 대한 정확도 : 0.974645996398761\n",
            "복잡하게 학습한 모델에서 훈련세트에 대한 정확도 : 0.9804899950518966\n"
          ],
          "name": "stdout"
        }
      ]
    }
  ]
}