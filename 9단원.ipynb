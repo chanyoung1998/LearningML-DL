{
  "nbformat": 4,
  "nbformat_minor": 0,
  "metadata": {
    "colab": {
      "name": "9단원.ipynb",
      "provenance": [],
      "authorship_tag": "ABX9TyM0bpa2rXL1dqpQgRbfP4JF",
      "include_colab_link": true
    },
    "kernelspec": {
      "name": "python3",
      "display_name": "Python 3"
    },
    "language_info": {
      "name": "python"
    }
  },
  "cells": [
    {
      "cell_type": "markdown",
      "metadata": {
        "id": "view-in-github",
        "colab_type": "text"
      },
      "source": [
        "<a href=\"https://colab.research.google.com/github/chanyoung1998/LearningML-DL/blob/main/9%EB%8B%A8%EC%9B%90.ipynb\" target=\"_parent\"><img src=\"https://colab.research.google.com/assets/colab-badge.svg\" alt=\"Open In Colab\"/></a>"
      ]
    },
    {
      "cell_type": "code",
      "metadata": {
        "colab": {
          "base_uri": "https://localhost:8080/"
        },
        "id": "ZeB5dZqohGR9",
        "outputId": "23ac794b-4815-44a8-80f3-d6c0e1bc27be"
      },
      "source": [
        "from tensorflow.keras.datasets import imdb\n",
        "(train_input,train_target),(test_input,test_target) = imdb.load_data(num_words = 500)"
      ],
      "execution_count": 1,
      "outputs": [
        {
          "output_type": "stream",
          "text": [
            "Downloading data from https://storage.googleapis.com/tensorflow/tf-keras-datasets/imdb.npz\n",
            "17465344/17464789 [==============================] - 0s 0us/step\n"
          ],
          "name": "stdout"
        },
        {
          "output_type": "stream",
          "text": [
            "<string>:6: VisibleDeprecationWarning: Creating an ndarray from ragged nested sequences (which is a list-or-tuple of lists-or-tuples-or ndarrays with different lengths or shapes) is deprecated. If you meant to do this, you must specify 'dtype=object' when creating the ndarray\n",
            "/usr/local/lib/python3.7/dist-packages/tensorflow/python/keras/datasets/imdb.py:159: VisibleDeprecationWarning: Creating an ndarray from ragged nested sequences (which is a list-or-tuple of lists-or-tuples-or ndarrays with different lengths or shapes) is deprecated. If you meant to do this, you must specify 'dtype=object' when creating the ndarray\n",
            "  x_train, y_train = np.array(xs[:idx]), np.array(labels[:idx])\n",
            "/usr/local/lib/python3.7/dist-packages/tensorflow/python/keras/datasets/imdb.py:160: VisibleDeprecationWarning: Creating an ndarray from ragged nested sequences (which is a list-or-tuple of lists-or-tuples-or ndarrays with different lengths or shapes) is deprecated. If you meant to do this, you must specify 'dtype=object' when creating the ndarray\n",
            "  x_test, y_test = np.array(xs[idx:]), np.array(labels[idx:])\n"
          ],
          "name": "stderr"
        }
      ]
    },
    {
      "cell_type": "code",
      "metadata": {
        "colab": {
          "base_uri": "https://localhost:8080/"
        },
        "id": "ijL2IdBfiKl4",
        "outputId": "b61f7083-b44e-4898-f530-0ef83673dc45"
      },
      "source": [
        "print(train_input.shape,test_input.shape)\n",
        "print(len(train_input[0]))\n",
        "print(len(train_input[1]))"
      ],
      "execution_count": 4,
      "outputs": [
        {
          "output_type": "stream",
          "text": [
            "(25000,) (25000,)\n",
            "218\n",
            "189\n"
          ],
          "name": "stdout"
        }
      ]
    },
    {
      "cell_type": "code",
      "metadata": {
        "colab": {
          "base_uri": "https://localhost:8080/"
        },
        "id": "Aqu04eeziW1J",
        "outputId": "caffc8bb-6705-4367-ff13-df8de21e6371"
      },
      "source": [
        "print(train_input[0])"
      ],
      "execution_count": 5,
      "outputs": [
        {
          "output_type": "stream",
          "text": [
            "[1, 14, 22, 16, 43, 2, 2, 2, 2, 65, 458, 2, 66, 2, 4, 173, 36, 256, 5, 25, 100, 43, 2, 112, 50, 2, 2, 9, 35, 480, 284, 5, 150, 4, 172, 112, 167, 2, 336, 385, 39, 4, 172, 2, 2, 17, 2, 38, 13, 447, 4, 192, 50, 16, 6, 147, 2, 19, 14, 22, 4, 2, 2, 469, 4, 22, 71, 87, 12, 16, 43, 2, 38, 76, 15, 13, 2, 4, 22, 17, 2, 17, 12, 16, 2, 18, 2, 5, 62, 386, 12, 8, 316, 8, 106, 5, 4, 2, 2, 16, 480, 66, 2, 33, 4, 130, 12, 16, 38, 2, 5, 25, 124, 51, 36, 135, 48, 25, 2, 33, 6, 22, 12, 215, 28, 77, 52, 5, 14, 407, 16, 82, 2, 8, 4, 107, 117, 2, 15, 256, 4, 2, 7, 2, 5, 2, 36, 71, 43, 2, 476, 26, 400, 317, 46, 7, 4, 2, 2, 13, 104, 88, 4, 381, 15, 297, 98, 32, 2, 56, 26, 141, 6, 194, 2, 18, 4, 226, 22, 21, 134, 476, 26, 480, 5, 144, 30, 2, 18, 51, 36, 28, 224, 92, 25, 104, 4, 226, 65, 16, 38, 2, 88, 12, 16, 283, 5, 16, 2, 113, 103, 32, 15, 16, 2, 19, 178, 32]\n"
          ],
          "name": "stdout"
        }
      ]
    },
    {
      "cell_type": "code",
      "metadata": {
        "colab": {
          "base_uri": "https://localhost:8080/"
        },
        "id": "UQdQZeEQibMB",
        "outputId": "7cfe2561-b077-4c9d-99f2-51230cb61259"
      },
      "source": [
        "print(train_target[:20])"
      ],
      "execution_count": 6,
      "outputs": [
        {
          "output_type": "stream",
          "text": [
            "[1 0 0 1 0 0 1 0 1 0 1 0 0 0 0 0 1 1 0 1]\n"
          ],
          "name": "stdout"
        }
      ]
    },
    {
      "cell_type": "code",
      "metadata": {
        "id": "a9O-BOVEid2g"
      },
      "source": [
        "from sklearn.model_selection import train_test_split\n",
        "\n",
        "train_input,val_input,train_target,val_target = train_test_split(train_input,train_target,test_size = 0.2,random_state = 42)"
      ],
      "execution_count": 7,
      "outputs": []
    },
    {
      "cell_type": "code",
      "metadata": {
        "colab": {
          "base_uri": "https://localhost:8080/"
        },
        "id": "FopMLVwoi0Go",
        "outputId": "92634b50-4219-4e33-fa05-6beabbfa2c8b"
      },
      "source": [
        "import numpy as np\n",
        "lengths = np.array([len(x) for x in train_input])\n",
        "print(np.mean(lengths),np.median(lengths))"
      ],
      "execution_count": 9,
      "outputs": [
        {
          "output_type": "stream",
          "text": [
            "239.00925 178.0\n"
          ],
          "name": "stdout"
        }
      ]
    },
    {
      "cell_type": "code",
      "metadata": {
        "colab": {
          "base_uri": "https://localhost:8080/",
          "height": 279
        },
        "id": "1oTAsDv3jSXh",
        "outputId": "9ffaab3e-f406-4df2-86b5-c704c0ec498d"
      },
      "source": [
        "import matplotlib.pyplot as plt\n",
        "\n",
        "plt.hist(lengths)\n",
        "plt.xlabel('length')\n",
        "plt.ylabel('count')\n",
        "plt.show()"
      ],
      "execution_count": 10,
      "outputs": [
        {
          "output_type": "display_data",
          "data": {
            "image/png": "[encoded data removed]",
            "text/plain": [
              "<Figure size 432x288 with 1 Axes>"
            ]
          },
          "metadata": {
            "tags": [],
            "needs_background": "light"
          }
        }
      ]
    },
    {
      "cell_type": "code",
      "metadata": {
        "colab": {
          "base_uri": "https://localhost:8080/"
        },
        "id": "FzgQT_3ojcOY",
        "outputId": "0f2a63ab-6dfd-4078-dba6-d11ce0cbb52d"
      },
      "source": [
        "from tensorflow.keras.preprocessing.sequence import pad_sequences\n",
        "train_seq = pad_sequences(train_input,maxlen= 100)\n",
        "val_seq = pad_sequences(val_input,maxlen= 100)\n",
        "print(train_seq.shape)"
      ],
      "execution_count": 13,
      "outputs": [
        {
          "output_type": "stream",
          "text": [
            "(20000, 100)\n"
          ],
          "name": "stdout"
        }
      ]
    },
    {
      "cell_type": "code",
      "metadata": {
        "id": "ROZVQlRLj1WI"
      },
      "source": [
        "from tensorflow import keras\n",
        "\n",
        "model = keras.Sequential()\n",
        "model.add(keras.layers.SimpleRNN(8,input_shape = (100,500)))\n",
        "model.add(keras.layers.Dense(1,activation='sigmoid'))"
      ],
      "execution_count": 15,
      "outputs": []
    },
    {
      "cell_type": "code",
      "metadata": {
        "colab": {
          "base_uri": "https://localhost:8080/"
        },
        "id": "bLK_Ywfvktiw",
        "outputId": "ba0abbed-aaae-4295-f500-3f085e50bfc8"
      },
      "source": [
        "train_oh = keras.utils.to_categorical(train_seq)\n",
        "print(train_oh.shape)"
      ],
      "execution_count": 16,
      "outputs": [
        {
          "output_type": "stream",
          "text": [
            "(20000, 100, 500)\n"
          ],
          "name": "stdout"
        }
      ]
    },
    {
      "cell_type": "code",
      "metadata": {
        "id": "1iL0oaXyk5jI"
      },
      "source": [
        "val_oh = keras.utils.to_categorical(val_seq)"
      ],
      "execution_count": 17,
      "outputs": []
    },
    {
      "cell_type": "code",
      "metadata": {
        "colab": {
          "base_uri": "https://localhost:8080/"
        },
        "id": "J92Cd7abk-0X",
        "outputId": "f98aa52a-6eca-4544-9692-74dae9f08883"
      },
      "source": [
        "model.summary()"
      ],
      "execution_count": 19,
      "outputs": [
        {
          "output_type": "stream",
          "text": [
            "Model: \"sequential_1\"\n",
            "_________________________________________________________________\n",
            "Layer (type)                 Output Shape              Param #   \n",
            "=================================================================\n",
            "simple_rnn (SimpleRNN)       (None, 8)                 4072      \n",
            "_________________________________________________________________\n",
            "dense (Dense)                (None, 1)                 9         \n",
            "=================================================================\n",
            "Total params: 4,081\n",
            "Trainable params: 4,081\n",
            "Non-trainable params: 0\n",
            "_________________________________________________________________\n"
          ],
          "name": "stdout"
        }
      ]
    },
    {
      "cell_type": "code",
      "metadata": {
        "colab": {
          "base_uri": "https://localhost:8080/"
        },
        "id": "Kn3uciX6lQFG",
        "outputId": "d5580afb-914e-476b-f33d-63ee71b9e6f7"
      },
      "source": [
        "rmsprop = keras.optimizers.RMSprop(learning_rate=1e-4)\n",
        "model.compile(optimizer=rmsprop,loss='binary_crossentropy',metrics=['accuracy'])\n",
        "checkpoint_cb = keras.callbacks.ModelCheckpoint('best-siplernn-model.h5')\n",
        "early_stopping_cb = keras.callbacks.EarlyStopping(patience=3,restore_best_weights=True)\n",
        "history = model.fit(train_oh,train_target,epochs=100,batch_size=64,validation_data=(val_oh,val_target),callbacks=[checkpoint_cb,early_stopping_cb])"
      ],
      "execution_count": 20,
      "outputs": [
        {
          "output_type": "stream",
          "text": [
            "Epoch 1/100\n",
            "313/313 [==============================] - 14s 41ms/step - loss: 0.7045 - accuracy: 0.5067 - val_loss: 0.6909 - val_accuracy: 0.5322\n",
            "Epoch 2/100\n",
            "313/313 [==============================] - 12s 40ms/step - loss: 0.6804 - accuracy: 0.5646 - val_loss: 0.6614 - val_accuracy: 0.6130\n",
            "Epoch 3/100\n",
            "313/313 [==============================] - 13s 40ms/step - loss: 0.6508 - accuracy: 0.6326 - val_loss: 0.6382 - val_accuracy: 0.6500\n",
            "Epoch 4/100\n",
            "313/313 [==============================] - 12s 40ms/step - loss: 0.6279 - accuracy: 0.6598 - val_loss: 0.6181 - val_accuracy: 0.6694\n",
            "Epoch 5/100\n",
            "313/313 [==============================] - 13s 40ms/step - loss: 0.6062 - accuracy: 0.6917 - val_loss: 0.5970 - val_accuracy: 0.6956\n",
            "Epoch 6/100\n",
            "313/313 [==============================] - 13s 40ms/step - loss: 0.5856 - accuracy: 0.7125 - val_loss: 0.5795 - val_accuracy: 0.7130\n",
            "Epoch 7/100\n",
            "313/313 [==============================] - 13s 40ms/step - loss: 0.5626 - accuracy: 0.7371 - val_loss: 0.5627 - val_accuracy: 0.7252\n",
            "Epoch 8/100\n",
            "313/313 [==============================] - 13s 41ms/step - loss: 0.5464 - accuracy: 0.7459 - val_loss: 0.5494 - val_accuracy: 0.7358\n",
            "Epoch 9/100\n",
            "313/313 [==============================] - 12s 40ms/step - loss: 0.5338 - accuracy: 0.7556 - val_loss: 0.5341 - val_accuracy: 0.7468\n",
            "Epoch 10/100\n",
            "313/313 [==============================] - 12s 40ms/step - loss: 0.5135 - accuracy: 0.7701 - val_loss: 0.5229 - val_accuracy: 0.7542\n",
            "Epoch 11/100\n",
            "313/313 [==============================] - 13s 40ms/step - loss: 0.5034 - accuracy: 0.7766 - val_loss: 0.5138 - val_accuracy: 0.7608\n",
            "Epoch 12/100\n",
            "313/313 [==============================] - 13s 40ms/step - loss: 0.4980 - accuracy: 0.7754 - val_loss: 0.5046 - val_accuracy: 0.7694\n",
            "Epoch 13/100\n",
            "313/313 [==============================] - 13s 40ms/step - loss: 0.4899 - accuracy: 0.7784 - val_loss: 0.4992 - val_accuracy: 0.7734\n",
            "Epoch 14/100\n",
            "313/313 [==============================] - 13s 40ms/step - loss: 0.4832 - accuracy: 0.7845 - val_loss: 0.4918 - val_accuracy: 0.7760\n",
            "Epoch 15/100\n",
            "313/313 [==============================] - 13s 40ms/step - loss: 0.4717 - accuracy: 0.7903 - val_loss: 0.4859 - val_accuracy: 0.7744\n",
            "Epoch 16/100\n",
            "313/313 [==============================] - 12s 40ms/step - loss: 0.4661 - accuracy: 0.7944 - val_loss: 0.4834 - val_accuracy: 0.7792\n",
            "Epoch 17/100\n",
            "313/313 [==============================] - 12s 40ms/step - loss: 0.4604 - accuracy: 0.7968 - val_loss: 0.4788 - val_accuracy: 0.7798\n",
            "Epoch 18/100\n",
            "313/313 [==============================] - 12s 40ms/step - loss: 0.4551 - accuracy: 0.8017 - val_loss: 0.4737 - val_accuracy: 0.7794\n",
            "Epoch 19/100\n",
            "313/313 [==============================] - 12s 40ms/step - loss: 0.4508 - accuracy: 0.8010 - val_loss: 0.4705 - val_accuracy: 0.7820\n",
            "Epoch 20/100\n",
            "313/313 [==============================] - 13s 40ms/step - loss: 0.4484 - accuracy: 0.8019 - val_loss: 0.4702 - val_accuracy: 0.7822\n",
            "Epoch 21/100\n",
            "313/313 [==============================] - 13s 40ms/step - loss: 0.4406 - accuracy: 0.8087 - val_loss: 0.4663 - val_accuracy: 0.7844\n",
            "Epoch 22/100\n",
            "313/313 [==============================] - 12s 40ms/step - loss: 0.4386 - accuracy: 0.8073 - val_loss: 0.4641 - val_accuracy: 0.7860\n",
            "Epoch 23/100\n",
            "313/313 [==============================] - 12s 40ms/step - loss: 0.4379 - accuracy: 0.8093 - val_loss: 0.4643 - val_accuracy: 0.7872\n",
            "Epoch 24/100\n",
            "313/313 [==============================] - 13s 40ms/step - loss: 0.4345 - accuracy: 0.8072 - val_loss: 0.4638 - val_accuracy: 0.7878\n",
            "Epoch 25/100\n",
            "313/313 [==============================] - 13s 41ms/step - loss: 0.4315 - accuracy: 0.8101 - val_loss: 0.4608 - val_accuracy: 0.7882\n",
            "Epoch 26/100\n",
            "313/313 [==============================] - 13s 41ms/step - loss: 0.4312 - accuracy: 0.8119 - val_loss: 0.4623 - val_accuracy: 0.7876\n",
            "Epoch 27/100\n",
            "313/313 [==============================] - 13s 40ms/step - loss: 0.4274 - accuracy: 0.8145 - val_loss: 0.4588 - val_accuracy: 0.7904\n",
            "Epoch 28/100\n",
            "313/313 [==============================] - 12s 40ms/step - loss: 0.4314 - accuracy: 0.8100 - val_loss: 0.4594 - val_accuracy: 0.7876\n",
            "Epoch 29/100\n",
            "313/313 [==============================] - 13s 40ms/step - loss: 0.4222 - accuracy: 0.8174 - val_loss: 0.4574 - val_accuracy: 0.7912\n",
            "Epoch 30/100\n",
            "313/313 [==============================] - 12s 40ms/step - loss: 0.4270 - accuracy: 0.8127 - val_loss: 0.4594 - val_accuracy: 0.7896\n",
            "Epoch 31/100\n",
            "313/313 [==============================] - 12s 40ms/step - loss: 0.4248 - accuracy: 0.8162 - val_loss: 0.4615 - val_accuracy: 0.7868\n",
            "Epoch 32/100\n",
            "313/313 [==============================] - 13s 40ms/step - loss: 0.4198 - accuracy: 0.8182 - val_loss: 0.4571 - val_accuracy: 0.7918\n",
            "Epoch 33/100\n",
            "313/313 [==============================] - 13s 40ms/step - loss: 0.4172 - accuracy: 0.8205 - val_loss: 0.4563 - val_accuracy: 0.7924\n",
            "Epoch 34/100\n",
            "313/313 [==============================] - 12s 40ms/step - loss: 0.4184 - accuracy: 0.8170 - val_loss: 0.4575 - val_accuracy: 0.7908\n",
            "Epoch 35/100\n",
            "313/313 [==============================] - 13s 40ms/step - loss: 0.4122 - accuracy: 0.8218 - val_loss: 0.4570 - val_accuracy: 0.7900\n",
            "Epoch 36/100\n",
            "313/313 [==============================] - 13s 40ms/step - loss: 0.4118 - accuracy: 0.8201 - val_loss: 0.4618 - val_accuracy: 0.7860\n"
          ],
          "name": "stdout"
        }
      ]
    },
    {
      "cell_type": "code",
      "metadata": {
        "colab": {
          "base_uri": "https://localhost:8080/",
          "height": 279
        },
        "id": "-ypTM4w-nEWI",
        "outputId": "ddb15821-cb56-46b2-d686-b08c3daa1582"
      },
      "source": [
        "plt.plot(history.history['loss'])\n",
        "plt.plot(history.history['val_loss'])\n",
        "plt.xlabel('epoch')\n",
        "plt.ylabel('loss')\n",
        "plt.legend(['train','val'])\n",
        "plt.show()"
      ],
      "execution_count": 21,
      "outputs": [
        {
          "output_type": "display_data",
          "data": {
            "image/png": "[encoded data removed]",
            "text/plain": [
              "<Figure size 432x288 with 1 Axes>"
            ]
          },
          "metadata": {
            "tags": [],
            "needs_background": "light"
          }
        }
      ]
    },
    {
      "cell_type": "code",
      "metadata": {
        "colab": {
          "base_uri": "https://localhost:8080/"
        },
        "id": "YhKYYCYump3w",
        "outputId": "e034963e-963c-4433-c554-7867ee85272c"
      },
      "source": [
        "model2 = keras.Sequential()\n",
        "model2.add(keras.layers.Embedding(500,16,input_length=100))\n",
        "model2.add(keras.layers.SimpleRNN(8))\n",
        "model2.add(keras.layers.Dense(1,activation='sigmoid'))\n",
        "model2.summary()"
      ],
      "execution_count": 22,
      "outputs": [
        {
          "output_type": "stream",
          "text": [
            "Model: \"sequential_2\"\n",
            "_________________________________________________________________\n",
            "Layer (type)                 Output Shape              Param #   \n",
            "=================================================================\n",
            "embedding (Embedding)        (None, 100, 16)           8000      \n",
            "_________________________________________________________________\n",
            "simple_rnn_1 (SimpleRNN)     (None, 8)                 200       \n",
            "_________________________________________________________________\n",
            "dense_1 (Dense)              (None, 1)                 9         \n",
            "=================================================================\n",
            "Total params: 8,209\n",
            "Trainable params: 8,209\n",
            "Non-trainable params: 0\n",
            "_________________________________________________________________\n"
          ],
          "name": "stdout"
        }
      ]
    },
    {
      "cell_type": "code",
      "metadata": {
        "colab": {
          "base_uri": "https://localhost:8080/"
        },
        "id": "ocE7D-ZLnfyw",
        "outputId": "60795fbd-0cff-456f-8cfc-bcb3c71c3eb7"
      },
      "source": [
        "rmsprop = keras.optimizers.RMSprop(learning_rate=1e-4)\n",
        "model2.compile(optimizer=rmsprop,loss='binary_crossentropy',metrics=['accuracy'])\n",
        "checkpoint_cb = keras.callbacks.ModelCheckpoint('best-embedding-model.h5')\n",
        "early_stopping_cb = keras.callbacks.EarlyStopping(patience=3,restore_best_weights=True)\n",
        "history = model2.fit(train_seq,train_target,epochs=100,batch_size=64,validation_data=(val_seq,val_target),callbacks=[checkpoint_cb,early_stopping_cb])"
      ],
      "execution_count": 25,
      "outputs": [
        {
          "output_type": "stream",
          "text": [
            "Epoch 1/100\n",
            "313/313 [==============================] - 8s 21ms/step - loss: 0.6957 - accuracy: 0.5072 - val_loss: 0.6889 - val_accuracy: 0.5336\n",
            "Epoch 2/100\n",
            "313/313 [==============================] - 6s 20ms/step - loss: 0.6812 - accuracy: 0.5679 - val_loss: 0.6408 - val_accuracy: 0.6702\n",
            "Epoch 3/100\n",
            "313/313 [==============================] - 6s 20ms/step - loss: 0.6238 - accuracy: 0.6922 - val_loss: 0.6002 - val_accuracy: 0.7168\n",
            "Epoch 4/100\n",
            "313/313 [==============================] - 6s 20ms/step - loss: 0.5900 - accuracy: 0.7214 - val_loss: 0.5817 - val_accuracy: 0.7290\n",
            "Epoch 5/100\n",
            "313/313 [==============================] - 6s 20ms/step - loss: 0.5677 - accuracy: 0.7431 - val_loss: 0.5662 - val_accuracy: 0.7344\n",
            "Epoch 6/100\n",
            "313/313 [==============================] - 6s 20ms/step - loss: 0.5548 - accuracy: 0.7459 - val_loss: 0.5510 - val_accuracy: 0.7416\n",
            "Epoch 7/100\n",
            "313/313 [==============================] - 6s 20ms/step - loss: 0.5350 - accuracy: 0.7635 - val_loss: 0.5406 - val_accuracy: 0.7476\n",
            "Epoch 8/100\n",
            "313/313 [==============================] - 6s 21ms/step - loss: 0.5294 - accuracy: 0.7607 - val_loss: 0.5349 - val_accuracy: 0.7508\n",
            "Epoch 9/100\n",
            "313/313 [==============================] - 6s 20ms/step - loss: 0.5204 - accuracy: 0.7645 - val_loss: 0.5262 - val_accuracy: 0.7562\n",
            "Epoch 10/100\n",
            "313/313 [==============================] - 6s 20ms/step - loss: 0.5119 - accuracy: 0.7699 - val_loss: 0.5195 - val_accuracy: 0.7614\n",
            "Epoch 11/100\n",
            "313/313 [==============================] - 6s 19ms/step - loss: 0.5002 - accuracy: 0.7779 - val_loss: 0.5186 - val_accuracy: 0.7572\n",
            "Epoch 12/100\n",
            "313/313 [==============================] - 6s 19ms/step - loss: 0.5024 - accuracy: 0.7720 - val_loss: 0.5077 - val_accuracy: 0.7626\n",
            "Epoch 13/100\n",
            "313/313 [==============================] - 6s 19ms/step - loss: 0.4885 - accuracy: 0.7837 - val_loss: 0.5010 - val_accuracy: 0.7700\n",
            "Epoch 14/100\n",
            "313/313 [==============================] - 6s 19ms/step - loss: 0.4891 - accuracy: 0.7817 - val_loss: 0.4956 - val_accuracy: 0.7726\n",
            "Epoch 15/100\n",
            "313/313 [==============================] - 6s 19ms/step - loss: 0.4849 - accuracy: 0.7841 - val_loss: 0.5013 - val_accuracy: 0.7684\n",
            "Epoch 16/100\n",
            "313/313 [==============================] - 6s 19ms/step - loss: 0.4687 - accuracy: 0.7958 - val_loss: 0.4974 - val_accuracy: 0.7696\n",
            "Epoch 17/100\n",
            "313/313 [==============================] - 6s 19ms/step - loss: 0.4701 - accuracy: 0.7908 - val_loss: 0.4892 - val_accuracy: 0.7722\n",
            "Epoch 18/100\n",
            "313/313 [==============================] - 6s 19ms/step - loss: 0.4633 - accuracy: 0.7982 - val_loss: 0.4933 - val_accuracy: 0.7724\n",
            "Epoch 19/100\n",
            "313/313 [==============================] - 6s 19ms/step - loss: 0.4587 - accuracy: 0.8003 - val_loss: 0.4874 - val_accuracy: 0.7762\n",
            "Epoch 20/100\n",
            "313/313 [==============================] - 6s 19ms/step - loss: 0.4542 - accuracy: 0.8006 - val_loss: 0.4863 - val_accuracy: 0.7756\n",
            "Epoch 21/100\n",
            "313/313 [==============================] - 6s 20ms/step - loss: 0.4568 - accuracy: 0.8005 - val_loss: 0.4900 - val_accuracy: 0.7720\n",
            "Epoch 22/100\n",
            "313/313 [==============================] - 6s 19ms/step - loss: 0.4504 - accuracy: 0.8046 - val_loss: 0.5001 - val_accuracy: 0.7672\n",
            "Epoch 23/100\n",
            "313/313 [==============================] - 6s 19ms/step - loss: 0.4453 - accuracy: 0.8062 - val_loss: 0.4915 - val_accuracy: 0.7742\n"
          ],
          "name": "stdout"
        }
      ]
    },
    {
      "cell_type": "code",
      "metadata": {
        "colab": {
          "base_uri": "https://localhost:8080/",
          "height": 279
        },
        "id": "_OLSDad7nx9f",
        "outputId": "0258806c-5aba-48fd-ba06-46392167abb4"
      },
      "source": [
        "plt.plot(history.history['loss'])\n",
        "plt.plot(history.history['val_loss'])\n",
        "plt.xlabel('epoch')\n",
        "plt.ylabel('loss')\n",
        "plt.legend(['train','val'])\n",
        "plt.show()"
      ],
      "execution_count": 26,
      "outputs": [
        {
          "output_type": "display_data",
          "data": {
            "image/png": "[encoded data removed]",
            "text/plain": [
              "<Figure size 432x288 with 1 Axes>"
            ]
          },
          "metadata": {
            "tags": [],
            "needs_background": "light"
          }
        }
      ]
    }
  ]
}