{
  "nbformat": 4,
  "nbformat_minor": 0,
  "metadata": {
    "colab": {
      "name": "BreamAndSmelt.ipynb",
      "provenance": [],
      "toc_visible": true,
      "authorship_tag": "ABX9TyO3iPNA6064voK3db5ktAej",
      "include_colab_link": true
    },
    "kernelspec": {
      "name": "python3",
      "display_name": "Python 3"
    }
  },
  "cells": [
    {
      "cell_type": "markdown",
      "metadata": {
        "id": "view-in-github",
        "colab_type": "text"
      },
      "source": [
        "<a href=\"https://colab.research.google.com/github/chanyoung1998/LearningML-DL/blob/main/BreamAndSmelt.ipynb\" target=\"_parent\"><img src=\"https://colab.research.google.com/assets/colab-badge.svg\" alt=\"Open In Colab\"/></a>"
      ]
    },
    {
      "cell_type": "markdown",
      "metadata": {
        "id": "6ukD-Bc_6xJ7"
      },
      "source": [
        "생선의 길이와 무게 초기화 단계\n",
        "길이와 무게는 **특성**이라고 한다.\n",
        "\n"
      ]
    },
    {
      "cell_type": "code",
      "metadata": {
        "id": "3PXPktov6Ma_"
      },
      "source": [
        "bream_length = [25.4, 26.3, 26.5, 29.0, 29.0, 29.7, 29.7, 30.0, 30.0, 30.7, 31.0, 31.0, \n",
        "                31.5, 32.0, 32.0, 32.0, 33.0, 33.0, 33.5, 33.5, 34.0, 34.0, 34.5, 35.0, \n",
        "                35.0, 35.0, 35.0, 36.0, 36.0, 37.0, 38.5, 38.5, 39.5, 41.0, 41.0]\n",
        "bream_weight = [242.0, 290.0, 340.0, 363.0, 430.0, 450.0, 500.0, 390.0, 450.0, 500.0, 475.0, 500.0, \n",
        "                500.0, 340.0, 600.0, 600.0, 700.0, 700.0, 610.0, 650.0, 575.0, 685.0, 620.0, 680.0, \n",
        "                700.0, 725.0, 720.0, 714.0, 850.0, 1000.0, 920.0, 955.0, 925.0, 975.0, 950.0]\n",
        "                "
      ],
      "execution_count": null,
      "outputs": []
    },
    {
      "cell_type": "markdown",
      "metadata": {
        "id": "N2g39hlF9F4t"
      },
      "source": [
        "bream 데이터를 matplotlib를 이용하여 그래프로 표현\n"
      ]
    },
    {
      "cell_type": "code",
      "metadata": {
        "colab": {
          "base_uri": "https://localhost:8080/",
          "height": 298
        },
        "id": "97W-NtJ57Ccm",
        "outputId": "e7d0350c-c465-4e8b-cefb-c74352211da2"
      },
      "source": [
        "import matplotlib.pyplot as plt\n",
        "\n",
        "plt.scatter(bream_length,bream_weight)\n",
        "plt.xlabel('length')\n",
        "plt.ylabel('weight')\n",
        "plt.show\n"
      ],
      "execution_count": null,
      "outputs": [
        {
          "output_type": "execute_result",
          "data": {
            "text/plain": [
              "<function matplotlib.pyplot.show>"
            ]
          },
          "metadata": {
            "tags": []
          },
          "execution_count": 2
        },
        {
          "output_type": "display_data",
          "data": {
            "image/png": "[encoded data removed]",
            "text/plain": [
              "<Figure size 432x288 with 1 Axes>"
            ]
          },
          "metadata": {
            "tags": [],
            "needs_background": "light"
          }
        }
      ]
    },
    {
      "cell_type": "code",
      "metadata": {
        "colab": {
          "base_uri": "https://localhost:8080/",
          "height": 265
        },
        "id": "DNDMfzPp8HTZ",
        "outputId": "2f4a9ec0-c446-4e9f-ad02-ce3f2f527eda"
      },
      "source": [
        "smelt_length = [9.8, 10.5, 10.6, 11.0, 11.2, 11.3, 11.8, 11.8, 12.0, 12.2, 12.4, 13.0, 14.3, 15.0]\n",
        "smelt_weight = [6.7, 7.5, 7.0, 9.7, 9.8, 8.7, 10.0, 9.9, 9.8, 12.2, 13.4, 12.2, 19.7, 19.9]\n",
        "plt.scatter(smelt_length,smelt_weight)\n",
        "plt.show()\n"
      ],
      "execution_count": null,
      "outputs": [
        {
          "output_type": "display_data",
          "data": {
            "image/png": "[encoded data removed]",
            "text/plain": [
              "<Figure size 432x288 with 1 Axes>"
            ]
          },
          "metadata": {
            "tags": [],
            "needs_background": "light"
          }
        }
      ]
    },
    {
      "cell_type": "markdown",
      "metadata": {
        "id": "sXVuq-UU9P3X"
      },
      "source": [
        "smelt와 bream데이터를 하나의 그래프에 표현"
      ]
    },
    {
      "cell_type": "code",
      "metadata": {
        "colab": {
          "base_uri": "https://localhost:8080/",
          "height": 279
        },
        "id": "j06ULPjc8bd-",
        "outputId": "134b4faa-79bc-41b9-ebdf-063b678e4582"
      },
      "source": [
        "plt.scatter(smelt_length,smelt_weight)\n",
        "plt.scatter(bream_length,bream_weight)\n",
        "plt.xlabel('length')\n",
        "plt.ylabel('weight')\n",
        "plt.show()"
      ],
      "execution_count": null,
      "outputs": [
        {
          "output_type": "display_data",
          "data": {
            "image/png": "[encoded data removed]",
            "text/plain": [
              "<Figure size 432x288 with 1 Axes>"
            ]
          },
          "metadata": {
            "tags": [],
            "needs_background": "light"
          }
        }
      ]
    },
    {
      "cell_type": "markdown",
      "metadata": {
        "id": "wj3vwUna9n7M"
      },
      "source": [
        "# 첫 번째 머신러닝 프로그램\n",
        "-  **k-최근접 이웃 알고리즘**\n",
        "을 이용해서 도미와 빙어 데이터를 구분\n"
      ]
    },
    {
      "cell_type": "code",
      "metadata": {
        "colab": {
          "base_uri": "https://localhost:8080/"
        },
        "id": "plhY9pP69Y0e",
        "outputId": "990b5f51-608f-481e-b34f-ad56f78eb150"
      },
      "source": [
        "length = bream_length + smelt_length\n",
        "weight = bream_weight + smelt_weight\n",
        "fish_data = [[l,w] for l,w in zip(length,weight)]\n",
        "fish_target = [1] *35 + [0] * 14\n",
        "print(fish_data) #훈련 데이터의 특성\n",
        "print(fish_target) # 훈련 데이터의 값 1은 도미 ,0은 빙어"
      ],
      "execution_count": null,
      "outputs": [
        {
          "output_type": "stream",
          "text": [
            "[[25.4, 242.0], [26.3, 290.0], [26.5, 340.0], [29.0, 363.0], [29.0, 430.0], [29.7, 450.0], [29.7, 500.0], [30.0, 390.0], [30.0, 450.0], [30.7, 500.0], [31.0, 475.0], [31.0, 500.0], [31.5, 500.0], [32.0, 340.0], [32.0, 600.0], [32.0, 600.0], [33.0, 700.0], [33.0, 700.0], [33.5, 610.0], [33.5, 650.0], [34.0, 575.0], [34.0, 685.0], [34.5, 620.0], [35.0, 680.0], [35.0, 700.0], [35.0, 725.0], [35.0, 720.0], [36.0, 714.0], [36.0, 850.0], [37.0, 1000.0], [38.5, 920.0], [38.5, 955.0], [39.5, 925.0], [41.0, 975.0], [41.0, 950.0], [9.8, 6.7], [10.5, 7.5], [10.6, 7.0], [11.0, 9.7], [11.2, 9.8], [11.3, 8.7], [11.8, 10.0], [11.8, 9.9], [12.0, 9.8], [12.2, 12.2], [12.4, 13.4], [13.0, 12.2], [14.3, 19.7], [15.0, 19.9]]\n",
            "[1, 1, 1, 1, 1, 1, 1, 1, 1, 1, 1, 1, 1, 1, 1, 1, 1, 1, 1, 1, 1, 1, 1, 1, 1, 1, 1, 1, 1, 1, 1, 1, 1, 1, 1, 0, 0, 0, 0, 0, 0, 0, 0, 0, 0, 0, 0, 0, 0]\n"
          ],
          "name": "stdout"
        }
      ]
    },
    {
      "cell_type": "markdown",
      "metadata": {
        "id": "zDRUBEMA_UM3"
      },
      "source": [
        "fish_data와 fish_target을 kn에 전달하여 도미를 찾기 위한 기준을 학습시킨다. 사이킷런에서는 fit()가 훈련시키는 역할을 한다"
      ]
    },
    {
      "cell_type": "code",
      "metadata": {
        "colab": {
          "base_uri": "https://localhost:8080/"
        },
        "id": "jnYPYAcd_AFB",
        "outputId": "774e606d-1bf9-43bb-b35c-0b5c80393abd"
      },
      "source": [
        "from sklearn.neighbors import KNeighborsClassifier\n",
        "kn = KNeighborsClassifier()\n",
        "kn.fit(fish_data,fish_target)\n",
        "kn.score(fish_data,fish_target) #kn모델이 얼마나 잘 훈련되었는지 평가하는 것 0~1.0사이 값 반환\n",
        "kn.predict([[30,600]])"
      ],
      "execution_count": null,
      "outputs": [
        {
          "output_type": "execute_result",
          "data": {
            "text/plain": [
              "array([1])"
            ]
          },
          "metadata": {
            "tags": []
          },
          "execution_count": 18
        }
      ]
    },
    {
      "cell_type": "code",
      "metadata": {
        "colab": {
          "base_uri": "https://localhost:8080/"
        },
        "id": "yDGWXT9GBcml",
        "outputId": "c75914d0-841f-4a5d-ede4-f6106df1ae35"
      },
      "source": [
        "#본문 64쪽 4번 문제\n",
        "for n in range(5,50):\n",
        "  kn.n_neighbors = n\n",
        "  score = kn.score(fish_data,fish_target)\n",
        "\n",
        "  if score < 1:\n",
        "    print(n,score)\n",
        "  \n",
        "    "
      ],
      "execution_count": null,
      "outputs": [
        {
          "output_type": "stream",
          "text": [
            "18 0.9795918367346939\n",
            "19 0.9795918367346939\n",
            "20 0.9795918367346939\n",
            "21 0.9795918367346939\n",
            "22 0.9795918367346939\n",
            "23 0.9795918367346939\n",
            "24 0.9795918367346939\n",
            "25 0.9795918367346939\n",
            "26 0.9795918367346939\n",
            "27 0.9795918367346939\n",
            "28 0.9591836734693877\n",
            "29 0.7142857142857143\n",
            "30 0.7142857142857143\n",
            "31 0.7142857142857143\n",
            "32 0.7142857142857143\n",
            "33 0.7142857142857143\n",
            "34 0.7142857142857143\n",
            "35 0.7142857142857143\n",
            "36 0.7142857142857143\n",
            "37 0.7142857142857143\n",
            "38 0.7142857142857143\n",
            "39 0.7142857142857143\n",
            "40 0.7142857142857143\n",
            "41 0.7142857142857143\n",
            "42 0.7142857142857143\n",
            "43 0.7142857142857143\n",
            "44 0.7142857142857143\n",
            "45 0.7142857142857143\n",
            "46 0.7142857142857143\n",
            "47 0.7142857142857143\n",
            "48 0.7142857142857143\n",
            "49 0.7142857142857143\n"
          ],
          "name": "stdout"
        }
      ]
    },
    {
      "cell_type": "markdown",
      "metadata": {
        "id": "b5IhyXDpJm8U"
      },
      "source": [
        "#샘플링 편향\n"
      ]
    },
    {
      "cell_type": "code",
      "metadata": {
        "colab": {
          "base_uri": "https://localhost:8080/"
        },
        "id": "96wu6K4oJtPx",
        "outputId": "47616b78-39ae-4195-df48-5c22d8bcec83"
      },
      "source": [
        "kn_ = KNeighborsClassifier()\n",
        "train_input = fish_data[:35]\n",
        "train_target = fish_target[:35]\n",
        "test_input = fish_data[35:]\n",
        "test_target = fish_target[35:]\n",
        "\n",
        "kn_ = kn_.fit(train_input,train_target)\n",
        "kn_.score(test_input,test_target)"
      ],
      "execution_count": 24,
      "outputs": [
        {
          "output_type": "execute_result",
          "data": {
            "text/plain": [
              "0.0"
            ]
          },
          "metadata": {
            "tags": []
          },
          "execution_count": 24
        }
      ]
    }
  ]
}