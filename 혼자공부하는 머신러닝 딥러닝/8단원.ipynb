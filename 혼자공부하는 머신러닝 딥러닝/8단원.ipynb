{
  "nbformat": 4,
  "nbformat_minor": 0,
  "metadata": {
    "colab": {
      "name": "8단원.ipynb",
      "provenance": [],
      "toc_visible": true,
      "authorship_tag": "ABX9TyP5v3aWfW8rjPgkp/N9Rg23",
      "include_colab_link": true
    },
    "kernelspec": {
      "name": "python3",
      "display_name": "Python 3"
    },
    "language_info": {
      "name": "python"
    },
    "accelerator": "GPU"
  },
  "cells": [
    {
      "cell_type": "markdown",
      "metadata": {
        "id": "view-in-github",
        "colab_type": "text"
      },
      "source": [
        "<a href=\"https://colab.research.google.com/github/chanyoung1998/LearningML-DL/blob/main/8%EB%8B%A8%EC%9B%90.ipynb\" target=\"_parent\"><img src=\"https://colab.research.google.com/assets/colab-badge.svg\" alt=\"Open In Colab\"/></a>"
      ]
    },
    {
      "cell_type": "markdown",
      "metadata": {
        "id": "dP4gHhgxeS-d"
      },
      "source": [
        "#합성곱 신경망을 사용한 이미지 분류"
      ]
    },
    {
      "cell_type": "code",
      "metadata": {
        "id": "rlDvIrDud6Zp",
        "colab": {
          "base_uri": "https://localhost:8080/"
        },
        "outputId": "db3850b7-6816-46bd-b9f0-38a3ff0bf494"
      },
      "source": [
        "from tensorflow import keras\n",
        "from sklearn.model_selection import train_test_split\n",
        "\n",
        "(train_input,train_target),(test_input,test_target) = keras.datasets.fashion_mnist.load_data()\n",
        "train_scaled = train_input.reshape(-1,28,28,1) / 255.0\n",
        "train_scaled,val_scaled, train_target,val_target = train_test_split(train_scaled,train_target,test_size = 0.2,random_state = 42)\n"
      ],
      "execution_count": null,
      "outputs": [
        {
          "output_type": "stream",
          "text": [
            "Downloading data from https://storage.googleapis.com/tensorflow/tf-keras-datasets/train-labels-idx1-ubyte.gz\n",
            "32768/29515 [=================================] - 0s 0us/step\n",
            "Downloading data from https://storage.googleapis.com/tensorflow/tf-keras-datasets/train-images-idx3-ubyte.gz\n",
            "26427392/26421880 [==============================] - 0s 0us/step\n",
            "Downloading data from https://storage.googleapis.com/tensorflow/tf-keras-datasets/t10k-labels-idx1-ubyte.gz\n",
            "8192/5148 [===============================================] - 0s 0us/step\n",
            "Downloading data from https://storage.googleapis.com/tensorflow/tf-keras-datasets/t10k-images-idx3-ubyte.gz\n",
            "4423680/4422102 [==============================] - 0s 0us/step\n"
          ],
          "name": "stdout"
        }
      ]
    },
    {
      "cell_type": "code",
      "metadata": {
        "id": "M8bBM5wQhFxN"
      },
      "source": [
        "model = keras.Sequential()\n",
        "model.add(keras.layers.Conv2D(32,kernel_size=3,activation='relu',padding='same',input_shape = (28,28,1)))\n",
        "model.add(keras.layers.MaxPooling2D(2))\n",
        "model.add(keras.layers.Conv2D(64,kernel_size=3,activation='relu',padding='same'))\n",
        "model.add(keras.layers.MaxPooling2D(2))\n",
        "model.add(keras.layers.Flatten())\n",
        "model.add(keras.layers.Dense(100,activation='relu'))\n",
        "model.add(keras.layers.Dropout(0.4))\n",
        "model.add(keras.layers.Dense(10,activation='softmax'))"
      ],
      "execution_count": null,
      "outputs": []
    },
    {
      "cell_type": "code",
      "metadata": {
        "colab": {
          "base_uri": "https://localhost:8080/"
        },
        "id": "FFgFanN6izaQ",
        "outputId": "026ebc0c-8528-42c9-f06b-42a478f7cb65"
      },
      "source": [
        "model.summary()"
      ],
      "execution_count": null,
      "outputs": [
        {
          "output_type": "stream",
          "text": [
            "Model: \"sequential\"\n",
            "_________________________________________________________________\n",
            "Layer (type)                 Output Shape              Param #   \n",
            "=================================================================\n",
            "conv2d (Conv2D)              (None, 28, 28, 32)        320       \n",
            "_________________________________________________________________\n",
            "max_pooling2d (MaxPooling2D) (None, 14, 14, 32)        0         \n",
            "_________________________________________________________________\n",
            "conv2d_1 (Conv2D)            (None, 14, 14, 64)        18496     \n",
            "_________________________________________________________________\n",
            "max_pooling2d_1 (MaxPooling2 (None, 7, 7, 64)          0         \n",
            "_________________________________________________________________\n",
            "flatten (Flatten)            (None, 3136)              0         \n",
            "_________________________________________________________________\n",
            "dense (Dense)                (None, 100)               313700    \n",
            "_________________________________________________________________\n",
            "dropout (Dropout)            (None, 100)               0         \n",
            "_________________________________________________________________\n",
            "dense_1 (Dense)              (None, 10)                1010      \n",
            "=================================================================\n",
            "Total params: 333,526\n",
            "Trainable params: 333,526\n",
            "Non-trainable params: 0\n",
            "_________________________________________________________________\n"
          ],
          "name": "stdout"
        }
      ]
    },
    {
      "cell_type": "code",
      "metadata": {
        "colab": {
          "base_uri": "https://localhost:8080/",
          "height": 856
        },
        "id": "5UIHKRXVjSTI",
        "outputId": "0f53d017-f53a-40f5-c224-4dc0d768e20b"
      },
      "source": [
        "keras.utils.plot_model(model)"
      ],
      "execution_count": null,
      "outputs": [
        {
          "output_type": "execute_result",
          "data": {
            "image/png": "[encoded data removed]",
            "text/plain": [
              "<IPython.core.display.Image object>"
            ]
          },
          "metadata": {
            "tags": []
          },
          "execution_count": 4
        }
      ]
    },
    {
      "cell_type": "code",
      "metadata": {
        "id": "srLxKfQDjSMs"
      },
      "source": [
        "keras.utils.plot_model(model,show_shapes=True,to_file='cnn-architecture.png',dpi=300)"
      ],
      "execution_count": null,
      "outputs": []
    },
    {
      "cell_type": "code",
      "metadata": {
        "colab": {
          "base_uri": "https://localhost:8080/"
        },
        "id": "wLv9N_Ocj3f1",
        "outputId": "a8490702-c64f-4822-f8ed-d8d53c2ab3d3"
      },
      "source": [
        "model.compile(optimizer='adam',loss='sparse_categorical_crossentropy',metrics='accuracy')\n",
        "checkpoint_cb = keras.callbacks.ModelCheckpoint('best-cnn-model.h5')\n",
        "early_stopping_cb = keras.callbacks.EarlyStopping(patience=2,restore_best_weights=True)\n",
        "history = model.fit(train_scaled,train_target,epochs=20,validation_data=(val_scaled,val_target),callbacks=[checkpoint_cb,early_stopping_cb])"
      ],
      "execution_count": null,
      "outputs": [
        {
          "output_type": "stream",
          "text": [
            "Epoch 1/20\n",
            "1500/1500 [==============================] - 40s 7ms/step - loss: 0.7170 - accuracy: 0.7434 - val_loss: 0.3173 - val_accuracy: 0.8839\n",
            "Epoch 2/20\n",
            "1500/1500 [==============================] - 10s 6ms/step - loss: 0.3457 - accuracy: 0.8763 - val_loss: 0.2644 - val_accuracy: 0.9023\n",
            "Epoch 3/20\n",
            "1500/1500 [==============================] - 10s 6ms/step - loss: 0.2879 - accuracy: 0.8937 - val_loss: 0.2463 - val_accuracy: 0.9107\n",
            "Epoch 4/20\n",
            "1500/1500 [==============================] - 10s 6ms/step - loss: 0.2527 - accuracy: 0.9071 - val_loss: 0.2400 - val_accuracy: 0.9097\n",
            "Epoch 5/20\n",
            "1500/1500 [==============================] - 10s 6ms/step - loss: 0.2285 - accuracy: 0.9151 - val_loss: 0.2261 - val_accuracy: 0.9162\n",
            "Epoch 6/20\n",
            "1500/1500 [==============================] - 10s 6ms/step - loss: 0.2099 - accuracy: 0.9222 - val_loss: 0.2237 - val_accuracy: 0.9188\n",
            "Epoch 7/20\n",
            "1500/1500 [==============================] - 10s 6ms/step - loss: 0.1924 - accuracy: 0.9300 - val_loss: 0.2294 - val_accuracy: 0.9172\n",
            "Epoch 8/20\n",
            "1500/1500 [==============================] - 10s 6ms/step - loss: 0.1803 - accuracy: 0.9322 - val_loss: 0.2301 - val_accuracy: 0.9172\n"
          ],
          "name": "stdout"
        }
      ]
    },
    {
      "cell_type": "code",
      "metadata": {
        "id": "TXt81WDCwJWm",
        "colab": {
          "base_uri": "https://localhost:8080/",
          "height": 279
        },
        "outputId": "ce258a32-5e51-49c2-875b-7904c9fd0a98"
      },
      "source": [
        "import matplotlib.pyplot as plt\n",
        "\n",
        "plt.plot(history.history['loss'])\n",
        "plt.plot(history.history['val_loss'])\n",
        "plt.xlabel('epoch')\n",
        "plt.ylabel('loss')\n",
        "plt.legend(['train','val'])\n",
        "plt.show()"
      ],
      "execution_count": 7,
      "outputs": [
        {
          "output_type": "display_data",
          "data": {
            "image/png": "[encoded data removed]",
            "text/plain": [
              "<Figure size 432x288 with 1 Axes>"
            ]
          },
          "metadata": {
            "tags": [],
            "needs_background": "light"
          }
        }
      ]
    },
    {
      "cell_type": "code",
      "metadata": {
        "colab": {
          "base_uri": "https://localhost:8080/"
        },
        "id": "qq4wwbvayYb4",
        "outputId": "32282267-61c0-4065-ae07-ed76cf94fd9a"
      },
      "source": [
        "model.evaluate(val_scaled,val_target)"
      ],
      "execution_count": 8,
      "outputs": [
        {
          "output_type": "stream",
          "text": [
            "375/375 [==============================] - 1s 3ms/step - loss: 0.2237 - accuracy: 0.9188\n"
          ],
          "name": "stdout"
        },
        {
          "output_type": "execute_result",
          "data": {
            "text/plain": [
              "[0.22371508181095123, 0.918833315372467]"
            ]
          },
          "metadata": {
            "tags": []
          },
          "execution_count": 8
        }
      ]
    },
    {
      "cell_type": "code",
      "metadata": {
        "colab": {
          "base_uri": "https://localhost:8080/",
          "height": 265
        },
        "id": "r7jl_GtBypuF",
        "outputId": "ea6de434-d378-4089-bd19-59cd3f014320"
      },
      "source": [
        "plt.imshow(val_scaled[0].reshape(28,28),cmap='gray_r')\n",
        "plt.show()"
      ],
      "execution_count": 9,
      "outputs": [
        {
          "output_type": "display_data",
          "data": {
            "image/png": "[encoded data removed]",
            "text/plain": [
              "<Figure size 432x288 with 1 Axes>"
            ]
          },
          "metadata": {
            "tags": [],
            "needs_background": "light"
          }
        }
      ]
    },
    {
      "cell_type": "code",
      "metadata": {
        "colab": {
          "base_uri": "https://localhost:8080/"
        },
        "id": "RX_NNy__y0AR",
        "outputId": "8d1e9f1e-b68b-4871-fdd2-e925b9ab3003"
      },
      "source": [
        "preds = model.predict(val_scaled[0:1])\n",
        "print(preds)"
      ],
      "execution_count": 10,
      "outputs": [
        {
          "output_type": "stream",
          "text": [
            "[[2.2295067e-12 1.0768770e-17 1.9641064e-15 6.2278755e-14 2.8073979e-13\n",
            "  7.7198657e-14 8.9392279e-14 6.2516458e-13 1.0000000e+00 4.8753661e-13]]\n"
          ],
          "name": "stdout"
        }
      ]
    },
    {
      "cell_type": "code",
      "metadata": {
        "colab": {
          "base_uri": "https://localhost:8080/",
          "height": 265
        },
        "id": "XiADG-v1y6Nx",
        "outputId": "d8d57e23-59e8-4148-fc27-7266bab39637"
      },
      "source": [
        "plt.bar(range(1,11),preds[0])\n",
        "plt.show()\n"
      ],
      "execution_count": 11,
      "outputs": [
        {
          "output_type": "display_data",
          "data": {
            "image/png": "[encoded data removed]",
            "text/plain": [
              "<Figure size 432x288 with 1 Axes>"
            ]
          },
          "metadata": {
            "tags": [],
            "needs_background": "light"
          }
        }
      ]
    },
    {
      "cell_type": "code",
      "metadata": {
        "colab": {
          "base_uri": "https://localhost:8080/"
        },
        "id": "3lq5fG4QzHHw",
        "outputId": "ff5c87a4-4cf6-4e29-c05d-46aa85bd227f"
      },
      "source": [
        "test_scaled = test_input.reshape(-1,28,28,1) / 255.0\n",
        "model.evaluate(test_scaled,test_target)"
      ],
      "execution_count": 12,
      "outputs": [
        {
          "output_type": "stream",
          "text": [
            "313/313 [==============================] - 1s 4ms/step - loss: 0.2448 - accuracy: 0.9114\n"
          ],
          "name": "stdout"
        },
        {
          "output_type": "execute_result",
          "data": {
            "text/plain": [
              "[0.24476076662540436, 0.9114000201225281]"
            ]
          },
          "metadata": {
            "tags": []
          },
          "execution_count": 12
        }
      ]
    },
    {
      "cell_type": "markdown",
      "metadata": {
        "id": "BKgDJo2c8LCq"
      },
      "source": [
        "#합성곱 신경망의 시각화"
      ]
    },
    {
      "cell_type": "code",
      "metadata": {
        "id": "Ydl0z7CL8OnT"
      },
      "source": [
        "from tensorflow import keras\n",
        "model = keras.models.load_model('best-cnn-model.h5')\n"
      ],
      "execution_count": 13,
      "outputs": []
    },
    {
      "cell_type": "code",
      "metadata": {
        "colab": {
          "base_uri": "https://localhost:8080/"
        },
        "id": "k7_G91nm8rgI",
        "outputId": "dea5cb18-a9c6-4337-9851-f577aee67edb"
      },
      "source": [
        "model.layers"
      ],
      "execution_count": 14,
      "outputs": [
        {
          "output_type": "execute_result",
          "data": {
            "text/plain": [
              "[<tensorflow.python.keras.layers.convolutional.Conv2D at 0x7fcc635fe650>,\n",
              " <tensorflow.python.keras.layers.pooling.MaxPooling2D at 0x7fcc6323ee50>,\n",
              " <tensorflow.python.keras.layers.convolutional.Conv2D at 0x7fccce2cf690>,\n",
              " <tensorflow.python.keras.layers.pooling.MaxPooling2D at 0x7fcc6325fb90>,\n",
              " <tensorflow.python.keras.layers.core.Flatten at 0x7fcc63214f90>,\n",
              " <tensorflow.python.keras.layers.core.Dense at 0x7fcc6323ec10>,\n",
              " <tensorflow.python.keras.layers.core.Dropout at 0x7fcc63254a90>,\n",
              " <tensorflow.python.keras.layers.core.Dense at 0x7fcc63266950>]"
            ]
          },
          "metadata": {
            "tags": []
          },
          "execution_count": 14
        }
      ]
    },
    {
      "cell_type": "code",
      "metadata": {
        "colab": {
          "base_uri": "https://localhost:8080/"
        },
        "id": "RYK0kN2_8uhY",
        "outputId": "f65f7875-4262-4f79-ffab-35bd5dcf4550"
      },
      "source": [
        "conv = model.layers[0]\n",
        "print(conv.weights[0].shape,conv.weights[1].shape)"
      ],
      "execution_count": 26,
      "outputs": [
        {
          "output_type": "stream",
          "text": [
            "(3, 3, 1, 32) (32,)\n"
          ],
          "name": "stdout"
        }
      ]
    },
    {
      "cell_type": "code",
      "metadata": {
        "colab": {
          "base_uri": "https://localhost:8080/"
        },
        "id": "bMN3wYfx9A8C",
        "outputId": "beddb57f-353a-4ff1-8cfb-79b8f2c4c259"
      },
      "source": [
        "conv_weights = conv.weights[0].numpy()\n",
        "print(conv_weights.mean(),conv_weights.std())\n",
        "print(conv_weights.shape)"
      ],
      "execution_count": 28,
      "outputs": [
        {
          "output_type": "stream",
          "text": [
            "-0.043936074 0.2805582\n",
            "(3, 3, 1, 32)\n"
          ],
          "name": "stdout"
        }
      ]
    },
    {
      "cell_type": "code",
      "metadata": {
        "colab": {
          "base_uri": "https://localhost:8080/",
          "height": 279
        },
        "id": "KBKiBcfa9Pgg",
        "outputId": "cc2ee729-4a91-4d63-bddf-071953e3e9df"
      },
      "source": [
        "import matplotlib.pyplot as plt\n",
        "plt.hist(conv_weights.reshape(-1,1))\n",
        "plt.xlabel('weights')\n",
        "plt.ylabel('counts')\n",
        "plt.show()"
      ],
      "execution_count": 17,
      "outputs": [
        {
          "output_type": "display_data",
          "data": {
            "image/png": "[encoded data removed]",
            "text/plain": [
              "<Figure size 432x288 with 1 Axes>"
            ]
          },
          "metadata": {
            "tags": [],
            "needs_background": "light"
          }
        }
      ]
    },
    {
      "cell_type": "code",
      "metadata": {
        "colab": {
          "base_uri": "https://localhost:8080/",
          "height": 134
        },
        "id": "eTV7G-qN9sXB",
        "outputId": "ecfe58ce-5a4c-43ff-8fbb-6c1dc87a26e9"
      },
      "source": [
        "fig,axs = plt.subplots(2,16,figsize=(15,2))\n",
        "for i in range(2):\n",
        "  for j in range(16):\n",
        "    axs[i,j].imshow(conv_weights[:,:,0,i*16 + j],vmin = -0.5,vmax =0.5)\n",
        "    axs[i,j].axis('off')\n",
        "plt.show()"
      ],
      "execution_count": 30,
      "outputs": [
        {
          "output_type": "display_data",
          "data": {
            "image/png": "[encoded data removed]",
            "text/plain": [
              "<Figure size 1080x144 with 32 Axes>"
            ]
          },
          "metadata": {
            "tags": [],
            "needs_background": "light"
          }
        }
      ]
    },
    {
      "cell_type": "code",
      "metadata": {
        "id": "S9DdMdD592CD"
      },
      "source": [
        "no_training_model = keras.Sequential()\n",
        "no_training_model.add(keras.layers.Conv2D(32,kernel_size=3,activation='relu',padding = 'same',input_shape=(28,28,1)))"
      ],
      "execution_count": 33,
      "outputs": []
    },
    {
      "cell_type": "code",
      "metadata": {
        "colab": {
          "base_uri": "https://localhost:8080/"
        },
        "id": "3jitSPlh_5w0",
        "outputId": "1793d22e-3d71-43c3-90d0-09a4524189c0"
      },
      "source": [
        "no_training_conv = no_training_model.layers[0]\n",
        "print(no_training_conv.weights[0].shape)"
      ],
      "execution_count": 34,
      "outputs": [
        {
          "output_type": "stream",
          "text": [
            "(3, 3, 1, 32)\n"
          ],
          "name": "stdout"
        }
      ]
    },
    {
      "cell_type": "code",
      "metadata": {
        "colab": {
          "base_uri": "https://localhost:8080/"
        },
        "id": "covPq-iOAMlA",
        "outputId": "a46b6e5a-afdd-4ecc-ac01-13c3497fb8cf"
      },
      "source": [
        "no_training_weights = no_training_conv.weights[0].numpy()\n",
        "print(no_training_weights.mean(),no_training_weights.std())"
      ],
      "execution_count": 35,
      "outputs": [
        {
          "output_type": "stream",
          "text": [
            "-0.002170633 0.079658106\n"
          ],
          "name": "stdout"
        }
      ]
    },
    {
      "cell_type": "code",
      "metadata": {
        "colab": {
          "base_uri": "https://localhost:8080/",
          "height": 265
        },
        "id": "IF1ebojWAYfM",
        "outputId": "9f3d4cb8-78ac-4cda-9db3-4c1778e94767"
      },
      "source": [
        "plt.hist(no_training_weights.reshape(-1,1))\n",
        "plt.show()"
      ],
      "execution_count": 36,
      "outputs": [
        {
          "output_type": "display_data",
          "data": {
            "image/png": "[encoded data removed]",
            "text/plain": [
              "<Figure size 432x288 with 1 Axes>"
            ]
          },
          "metadata": {
            "tags": [],
            "needs_background": "light"
          }
        }
      ]
    },
    {
      "cell_type": "code",
      "metadata": {
        "colab": {
          "base_uri": "https://localhost:8080/",
          "height": 134
        },
        "id": "VNrP7FfKAgYk",
        "outputId": "311f8437-0ff9-4b5b-873d-95ac9e291bef"
      },
      "source": [
        "fig,axs = plt.subplots(2,16,figsize=(15,2))\n",
        "for i in range(2):\n",
        "  for j in range(16):\n",
        "    axs[i,j].imshow(no_training_weights[:,:,0,i*16 + j],vmin = -0.5,vmax =0.5)\n",
        "    axs[i,j].axis('off')\n",
        "plt.show()"
      ],
      "execution_count": 37,
      "outputs": [
        {
          "output_type": "display_data",
          "data": {
            "image/png": "[encoded data removed]",
            "text/plain": [
              "<Figure size 1080x144 with 32 Axes>"
            ]
          },
          "metadata": {
            "tags": [],
            "needs_background": "light"
          }
        }
      ]
    },
    {
      "cell_type": "code",
      "metadata": {
        "colab": {
          "base_uri": "https://localhost:8080/"
        },
        "id": "X8HaTRQxAtJv",
        "outputId": "8b853020-5503-49e7-eb07-9bf79a06a0a0"
      },
      "source": [
        "inputs = keras.Input(shape=(784,))\n",
        "print(model.input)\n",
        "conv_acti = keras.models.Model(model.input,model.layers[0].output)"
      ],
      "execution_count": 38,
      "outputs": [
        {
          "output_type": "stream",
          "text": [
            "KerasTensor(type_spec=TensorSpec(shape=(None, 28, 28, 1), dtype=tf.float32, name='conv2d_input'), name='conv2d_input', description=\"created by layer 'conv2d_input'\")\n"
          ],
          "name": "stdout"
        }
      ]
    },
    {
      "cell_type": "code",
      "metadata": {
        "colab": {
          "base_uri": "https://localhost:8080/",
          "height": 265
        },
        "id": "O49yFrLaC5BQ",
        "outputId": "03bd4443-bc29-4e41-e131-bfd1bb783ce1"
      },
      "source": [
        "(train_input,train_target),(test_input,test_target) = keras.datasets.fashion_mnist.load_data()\n",
        "plt.imshow(train_input[0],cmap = 'gray_r')\n",
        "plt.show()"
      ],
      "execution_count": 39,
      "outputs": [
        {
          "output_type": "display_data",
          "data": {
            "image/png": "[encoded data removed]",
            "text/plain": [
              "<Figure size 432x288 with 1 Axes>"
            ]
          },
          "metadata": {
            "tags": [],
            "needs_background": "light"
          }
        }
      ]
    },
    {
      "cell_type": "code",
      "metadata": {
        "colab": {
          "base_uri": "https://localhost:8080/"
        },
        "id": "bwR54pa9DGlm",
        "outputId": "954b9e84-85c4-413d-b00c-12a5c80b84a4"
      },
      "source": [
        "inputs = train_input[0:1].reshape(-1,28,28,1)/ 255.0\n",
        "feature_maps = conv_acti.predict(inputs)\n",
        "print(feature_maps.shape)"
      ],
      "execution_count": 40,
      "outputs": [
        {
          "output_type": "stream",
          "text": [
            "(1, 28, 28, 32)\n"
          ],
          "name": "stdout"
        }
      ]
    },
    {
      "cell_type": "code",
      "metadata": {
        "colab": {
          "base_uri": "https://localhost:8080/",
          "height": 460
        },
        "id": "kiY6wFFxDcKK",
        "outputId": "6d311098-63a4-4703-d7b4-e2093598d578"
      },
      "source": [
        "fig,axs = plt.subplots(4,8,figsize=(15,8))\n",
        "for i in range(4):\n",
        "  for j in range(8):\n",
        "    axs[i,j].imshow(feature_maps[0,:,:,i*8 + j])\n",
        "    axs[i,j].axis('off')\n",
        "plt.show()"
      ],
      "execution_count": 44,
      "outputs": [
        {
          "output_type": "display_data",
          "data": {
            "image/png": "[encoded data removed]",
            "text/plain": [
              "<Figure size 1080x576 with 32 Axes>"
            ]
          },
          "metadata": {
            "tags": [],
            "needs_background": "light"
          }
        }
      ]
    }
  ]
}